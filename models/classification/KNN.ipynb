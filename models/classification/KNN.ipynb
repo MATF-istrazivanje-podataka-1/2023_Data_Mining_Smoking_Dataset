{
 "cells": [
  {
   "cell_type": "code",
   "execution_count": 82,
   "id": "ee918f8c",
   "metadata": {},
   "outputs": [],
   "source": [
    "import pandas as pd\n",
    "from matplotlib import pyplot as plt\n",
    "from sklearn.model_selection import train_test_split\n",
    "from sklearn.metrics import confusion_matrix\n",
    "import seaborn as sns\n",
    "from sklearn.neighbors import KNeighborsClassifier "
   ]
  },
  {
   "cell_type": "code",
   "execution_count": 83,
   "id": "2f36d96f",
   "metadata": {},
   "outputs": [
    {
     "data": {
      "text/plain": [
       "Index(['Unnamed: 0', 'gender', 'age', 'height(cm)', 'weight(kg)', 'waist(cm)',\n",
       "       'eyesight(left)', 'eyesight(right)', 'hearing(left)', 'hearing(right)',\n",
       "       'systolic', 'relaxation', 'fasting blood sugar', 'Cholesterol',\n",
       "       'triglyceride', 'HDL', 'LDL', 'hemoglobin', 'Urine protein',\n",
       "       'serum creatinine', 'AST', 'ALT', 'Gtp', 'dental caries', 'tartar',\n",
       "       'smoking'],\n",
       "      dtype='object')"
      ]
     },
     "execution_count": 83,
     "metadata": {},
     "output_type": "execute_result"
    }
   ],
   "source": [
    "data = pd.read_csv(\"/home/ivana/Desktop/IP-projekat/2023_Data_Mining_Smoking_Dataset/datasets/data1.csv\")\n",
    "data.columns"
   ]
  },
  {
   "cell_type": "code",
   "execution_count": 84,
   "id": "f95532c6",
   "metadata": {},
   "outputs": [],
   "source": [
    "data.drop('Unnamed: 0', axis=1,inplace=True)"
   ]
  },
  {
   "cell_type": "code",
   "execution_count": 85,
   "id": "9612d422",
   "metadata": {},
   "outputs": [
    {
     "data": {
      "text/plain": [
       "(55692, 25)"
      ]
     },
     "execution_count": 85,
     "metadata": {},
     "output_type": "execute_result"
    }
   ],
   "source": [
    "data.shape"
   ]
  },
  {
   "cell_type": "code",
   "execution_count": 86,
   "id": "bd776038",
   "metadata": {},
   "outputs": [
    {
     "data": {
      "text/html": [
       "<div>\n",
       "<style scoped>\n",
       "    .dataframe tbody tr th:only-of-type {\n",
       "        vertical-align: middle;\n",
       "    }\n",
       "\n",
       "    .dataframe tbody tr th {\n",
       "        vertical-align: top;\n",
       "    }\n",
       "\n",
       "    .dataframe thead th {\n",
       "        text-align: right;\n",
       "    }\n",
       "</style>\n",
       "<table border=\"1\" class=\"dataframe\">\n",
       "  <thead>\n",
       "    <tr style=\"text-align: right;\">\n",
       "      <th></th>\n",
       "      <th>gender</th>\n",
       "      <th>age</th>\n",
       "      <th>height(cm)</th>\n",
       "      <th>weight(kg)</th>\n",
       "      <th>waist(cm)</th>\n",
       "      <th>eyesight(left)</th>\n",
       "      <th>eyesight(right)</th>\n",
       "      <th>hearing(left)</th>\n",
       "      <th>hearing(right)</th>\n",
       "      <th>systolic</th>\n",
       "      <th>...</th>\n",
       "      <th>HDL</th>\n",
       "      <th>LDL</th>\n",
       "      <th>hemoglobin</th>\n",
       "      <th>Urine protein</th>\n",
       "      <th>serum creatinine</th>\n",
       "      <th>AST</th>\n",
       "      <th>ALT</th>\n",
       "      <th>Gtp</th>\n",
       "      <th>dental caries</th>\n",
       "      <th>tartar</th>\n",
       "    </tr>\n",
       "  </thead>\n",
       "  <tbody>\n",
       "    <tr>\n",
       "      <th>0</th>\n",
       "      <td>0</td>\n",
       "      <td>40</td>\n",
       "      <td>155</td>\n",
       "      <td>60</td>\n",
       "      <td>81.3</td>\n",
       "      <td>1.2</td>\n",
       "      <td>1.0</td>\n",
       "      <td>1.0</td>\n",
       "      <td>1.0</td>\n",
       "      <td>114.0</td>\n",
       "      <td>...</td>\n",
       "      <td>73.0</td>\n",
       "      <td>126.0</td>\n",
       "      <td>12.9</td>\n",
       "      <td>1.0</td>\n",
       "      <td>0.7</td>\n",
       "      <td>18.0</td>\n",
       "      <td>19.0</td>\n",
       "      <td>27.0</td>\n",
       "      <td>0</td>\n",
       "      <td>1</td>\n",
       "    </tr>\n",
       "    <tr>\n",
       "      <th>1</th>\n",
       "      <td>0</td>\n",
       "      <td>40</td>\n",
       "      <td>160</td>\n",
       "      <td>60</td>\n",
       "      <td>81.0</td>\n",
       "      <td>0.8</td>\n",
       "      <td>0.6</td>\n",
       "      <td>1.0</td>\n",
       "      <td>1.0</td>\n",
       "      <td>119.0</td>\n",
       "      <td>...</td>\n",
       "      <td>42.0</td>\n",
       "      <td>127.0</td>\n",
       "      <td>12.7</td>\n",
       "      <td>1.0</td>\n",
       "      <td>0.6</td>\n",
       "      <td>22.0</td>\n",
       "      <td>19.0</td>\n",
       "      <td>18.0</td>\n",
       "      <td>0</td>\n",
       "      <td>1</td>\n",
       "    </tr>\n",
       "    <tr>\n",
       "      <th>2</th>\n",
       "      <td>1</td>\n",
       "      <td>55</td>\n",
       "      <td>170</td>\n",
       "      <td>60</td>\n",
       "      <td>80.0</td>\n",
       "      <td>0.8</td>\n",
       "      <td>0.8</td>\n",
       "      <td>1.0</td>\n",
       "      <td>1.0</td>\n",
       "      <td>138.0</td>\n",
       "      <td>...</td>\n",
       "      <td>55.0</td>\n",
       "      <td>151.0</td>\n",
       "      <td>15.8</td>\n",
       "      <td>1.0</td>\n",
       "      <td>1.0</td>\n",
       "      <td>21.0</td>\n",
       "      <td>16.0</td>\n",
       "      <td>22.0</td>\n",
       "      <td>0</td>\n",
       "      <td>0</td>\n",
       "    </tr>\n",
       "    <tr>\n",
       "      <th>3</th>\n",
       "      <td>1</td>\n",
       "      <td>40</td>\n",
       "      <td>165</td>\n",
       "      <td>70</td>\n",
       "      <td>88.0</td>\n",
       "      <td>1.5</td>\n",
       "      <td>1.5</td>\n",
       "      <td>1.0</td>\n",
       "      <td>1.0</td>\n",
       "      <td>100.0</td>\n",
       "      <td>...</td>\n",
       "      <td>45.0</td>\n",
       "      <td>226.0</td>\n",
       "      <td>14.7</td>\n",
       "      <td>1.0</td>\n",
       "      <td>1.0</td>\n",
       "      <td>19.0</td>\n",
       "      <td>26.0</td>\n",
       "      <td>18.0</td>\n",
       "      <td>0</td>\n",
       "      <td>1</td>\n",
       "    </tr>\n",
       "    <tr>\n",
       "      <th>4</th>\n",
       "      <td>0</td>\n",
       "      <td>40</td>\n",
       "      <td>155</td>\n",
       "      <td>60</td>\n",
       "      <td>86.0</td>\n",
       "      <td>1.0</td>\n",
       "      <td>1.0</td>\n",
       "      <td>1.0</td>\n",
       "      <td>1.0</td>\n",
       "      <td>120.0</td>\n",
       "      <td>...</td>\n",
       "      <td>62.0</td>\n",
       "      <td>107.0</td>\n",
       "      <td>12.5</td>\n",
       "      <td>1.0</td>\n",
       "      <td>0.6</td>\n",
       "      <td>16.0</td>\n",
       "      <td>14.0</td>\n",
       "      <td>22.0</td>\n",
       "      <td>0</td>\n",
       "      <td>0</td>\n",
       "    </tr>\n",
       "  </tbody>\n",
       "</table>\n",
       "<p>5 rows × 24 columns</p>\n",
       "</div>"
      ],
      "text/plain": [
       "   gender  age  height(cm)  weight(kg)  waist(cm)  eyesight(left)  \\\n",
       "0       0   40         155          60       81.3             1.2   \n",
       "1       0   40         160          60       81.0             0.8   \n",
       "2       1   55         170          60       80.0             0.8   \n",
       "3       1   40         165          70       88.0             1.5   \n",
       "4       0   40         155          60       86.0             1.0   \n",
       "\n",
       "   eyesight(right)  hearing(left)  hearing(right)  systolic  ...   HDL    LDL  \\\n",
       "0              1.0            1.0             1.0     114.0  ...  73.0  126.0   \n",
       "1              0.6            1.0             1.0     119.0  ...  42.0  127.0   \n",
       "2              0.8            1.0             1.0     138.0  ...  55.0  151.0   \n",
       "3              1.5            1.0             1.0     100.0  ...  45.0  226.0   \n",
       "4              1.0            1.0             1.0     120.0  ...  62.0  107.0   \n",
       "\n",
       "   hemoglobin  Urine protein  serum creatinine   AST   ALT   Gtp  \\\n",
       "0        12.9            1.0               0.7  18.0  19.0  27.0   \n",
       "1        12.7            1.0               0.6  22.0  19.0  18.0   \n",
       "2        15.8            1.0               1.0  21.0  16.0  22.0   \n",
       "3        14.7            1.0               1.0  19.0  26.0  18.0   \n",
       "4        12.5            1.0               0.6  16.0  14.0  22.0   \n",
       "\n",
       "   dental caries  tartar  \n",
       "0              0       1  \n",
       "1              0       1  \n",
       "2              0       0  \n",
       "3              0       1  \n",
       "4              0       0  \n",
       "\n",
       "[5 rows x 24 columns]"
      ]
     },
     "execution_count": 86,
     "metadata": {},
     "output_type": "execute_result"
    }
   ],
   "source": [
    "Y = data['smoking']\n",
    "X = data.drop('smoking', axis=1)\n",
    "feature_names = X.columns\n",
    "X.head()"
   ]
  },
  {
   "cell_type": "markdown",
   "id": "0843b88b",
   "metadata": {},
   "source": [
    "Meni vise smetaju ekstremni autlajeri na +-3IQR. Vidimo da atribut dental caries ima 21% autlajera. U ostalim atributima procenat autlajera je jako mali ili ih uopste nema."
   ]
  },
  {
   "cell_type": "code",
   "execution_count": 87,
   "id": "3cd01e89",
   "metadata": {},
   "outputs": [],
   "source": [
    "def IQR(data, feature_names):\n",
    "    \n",
    "    iqr = pd.DataFrame(0, index=feature_names, columns=['lower', 'min', 'num_lower', 'upper', 'max', 'num_upper', 'percantage'])\n",
    "    for name in feature_names:\n",
    "\n",
    "        (Q1, Q3) = X[name].quantile([0.25, 0.75])\n",
    "        IQR = Q3 - Q1\n",
    "        upper = Q3 + (3 * IQR)\n",
    "        lower = Q1 - (3 * IQR)\n",
    "        \n",
    "        iqr.loc[name, 'upper'] = upper\n",
    "        iqr.loc[name, 'lower'] = lower\n",
    "\n",
    "        num_of_out_lower = (X[name] < lower).sum()\n",
    "        num_of_out_upper = (X[name] > upper).sum()\n",
    "\n",
    "        percentage = round((num_of_out_lower + num_of_out_upper) / X.shape[0] * 100)\n",
    "\n",
    "        iqr.loc[name, 'num_lower'], iqr.loc[name, 'num_upper'], iqr.loc[name, 'percantage']  = num_of_out_lower, num_of_out_upper, percentage\n",
    "        iqr.loc[name, 'min'], iqr.loc[name, 'max'] = min(X[name]), max(X[name])    \n",
    "    return iqr"
   ]
  },
  {
   "cell_type": "code",
   "execution_count": 88,
   "id": "fff6c069",
   "metadata": {},
   "outputs": [],
   "source": [
    "X_train, X_test, Y_train, Y_test = train_test_split(X, Y, test_size=0.33, stratify=Y, random_state=12)"
   ]
  },
  {
   "cell_type": "markdown",
   "id": "d42c8298",
   "metadata": {},
   "source": [
    "Nakon podele na test i trening skup radimo detekciju elemenata van granica inace bismo kompromitovali test skup."
   ]
  },
  {
   "cell_type": "code",
   "execution_count": 89,
   "id": "d6e8efb6",
   "metadata": {},
   "outputs": [
    {
     "data": {
      "text/html": [
       "<div>\n",
       "<style scoped>\n",
       "    .dataframe tbody tr th:only-of-type {\n",
       "        vertical-align: middle;\n",
       "    }\n",
       "\n",
       "    .dataframe tbody tr th {\n",
       "        vertical-align: top;\n",
       "    }\n",
       "\n",
       "    .dataframe thead th {\n",
       "        text-align: right;\n",
       "    }\n",
       "</style>\n",
       "<table border=\"1\" class=\"dataframe\">\n",
       "  <thead>\n",
       "    <tr style=\"text-align: right;\">\n",
       "      <th></th>\n",
       "      <th>lower</th>\n",
       "      <th>min</th>\n",
       "      <th>num_lower</th>\n",
       "      <th>upper</th>\n",
       "      <th>max</th>\n",
       "      <th>num_upper</th>\n",
       "      <th>percantage</th>\n",
       "    </tr>\n",
       "  </thead>\n",
       "  <tbody>\n",
       "    <tr>\n",
       "      <th>gender</th>\n",
       "      <td>-3.0</td>\n",
       "      <td>0.0</td>\n",
       "      <td>0</td>\n",
       "      <td>4.0</td>\n",
       "      <td>1.0</td>\n",
       "      <td>0</td>\n",
       "      <td>0</td>\n",
       "    </tr>\n",
       "    <tr>\n",
       "      <th>age</th>\n",
       "      <td>-5.0</td>\n",
       "      <td>20.0</td>\n",
       "      <td>0</td>\n",
       "      <td>100.0</td>\n",
       "      <td>85.0</td>\n",
       "      <td>0</td>\n",
       "      <td>0</td>\n",
       "    </tr>\n",
       "    <tr>\n",
       "      <th>height(cm)</th>\n",
       "      <td>130.0</td>\n",
       "      <td>130.0</td>\n",
       "      <td>0</td>\n",
       "      <td>200.0</td>\n",
       "      <td>190.0</td>\n",
       "      <td>0</td>\n",
       "      <td>0</td>\n",
       "    </tr>\n",
       "    <tr>\n",
       "      <th>weight(kg)</th>\n",
       "      <td>-5.0</td>\n",
       "      <td>30.0</td>\n",
       "      <td>0</td>\n",
       "      <td>135.0</td>\n",
       "      <td>135.0</td>\n",
       "      <td>0</td>\n",
       "      <td>0</td>\n",
       "    </tr>\n",
       "    <tr>\n",
       "      <th>waist(cm)</th>\n",
       "      <td>40.0</td>\n",
       "      <td>51.0</td>\n",
       "      <td>0</td>\n",
       "      <td>124.0</td>\n",
       "      <td>129.0</td>\n",
       "      <td>8</td>\n",
       "      <td>0</td>\n",
       "    </tr>\n",
       "    <tr>\n",
       "      <th>eyesight(left)</th>\n",
       "      <td>-0.4</td>\n",
       "      <td>0.1</td>\n",
       "      <td>0</td>\n",
       "      <td>2.4</td>\n",
       "      <td>9.9</td>\n",
       "      <td>92</td>\n",
       "      <td>0</td>\n",
       "    </tr>\n",
       "    <tr>\n",
       "      <th>eyesight(right)</th>\n",
       "      <td>-0.4</td>\n",
       "      <td>0.1</td>\n",
       "      <td>0</td>\n",
       "      <td>2.4</td>\n",
       "      <td>9.9</td>\n",
       "      <td>92</td>\n",
       "      <td>0</td>\n",
       "    </tr>\n",
       "    <tr>\n",
       "      <th>hearing(left)</th>\n",
       "      <td>1.0</td>\n",
       "      <td>1.0</td>\n",
       "      <td>0</td>\n",
       "      <td>1.0</td>\n",
       "      <td>2.0</td>\n",
       "      <td>1425</td>\n",
       "      <td>3</td>\n",
       "    </tr>\n",
       "    <tr>\n",
       "      <th>hearing(right)</th>\n",
       "      <td>1.0</td>\n",
       "      <td>1.0</td>\n",
       "      <td>0</td>\n",
       "      <td>1.0</td>\n",
       "      <td>2.0</td>\n",
       "      <td>1456</td>\n",
       "      <td>3</td>\n",
       "    </tr>\n",
       "    <tr>\n",
       "      <th>systolic</th>\n",
       "      <td>58.0</td>\n",
       "      <td>71.0</td>\n",
       "      <td>0</td>\n",
       "      <td>184.0</td>\n",
       "      <td>240.0</td>\n",
       "      <td>49</td>\n",
       "      <td>0</td>\n",
       "    </tr>\n",
       "    <tr>\n",
       "      <th>relaxation</th>\n",
       "      <td>34.0</td>\n",
       "      <td>40.0</td>\n",
       "      <td>0</td>\n",
       "      <td>118.0</td>\n",
       "      <td>146.0</td>\n",
       "      <td>55</td>\n",
       "      <td>0</td>\n",
       "    </tr>\n",
       "    <tr>\n",
       "      <th>fasting blood sugar</th>\n",
       "      <td>44.0</td>\n",
       "      <td>46.0</td>\n",
       "      <td>0</td>\n",
       "      <td>149.0</td>\n",
       "      <td>505.0</td>\n",
       "      <td>1410</td>\n",
       "      <td>3</td>\n",
       "    </tr>\n",
       "    <tr>\n",
       "      <th>Cholesterol</th>\n",
       "      <td>28.0</td>\n",
       "      <td>55.0</td>\n",
       "      <td>0</td>\n",
       "      <td>364.0</td>\n",
       "      <td>445.0</td>\n",
       "      <td>24</td>\n",
       "      <td>0</td>\n",
       "    </tr>\n",
       "    <tr>\n",
       "      <th>triglyceride</th>\n",
       "      <td>-184.0</td>\n",
       "      <td>8.0</td>\n",
       "      <td>0</td>\n",
       "      <td>418.0</td>\n",
       "      <td>999.0</td>\n",
       "      <td>6</td>\n",
       "      <td>0</td>\n",
       "    </tr>\n",
       "    <tr>\n",
       "      <th>HDL</th>\n",
       "      <td>-10.0</td>\n",
       "      <td>4.0</td>\n",
       "      <td>0</td>\n",
       "      <td>123.0</td>\n",
       "      <td>618.0</td>\n",
       "      <td>46</td>\n",
       "      <td>0</td>\n",
       "    </tr>\n",
       "    <tr>\n",
       "      <th>LDL</th>\n",
       "      <td>-40.0</td>\n",
       "      <td>1.0</td>\n",
       "      <td>0</td>\n",
       "      <td>268.0</td>\n",
       "      <td>1860.0</td>\n",
       "      <td>49</td>\n",
       "      <td>0</td>\n",
       "    </tr>\n",
       "    <tr>\n",
       "      <th>hemoglobin</th>\n",
       "      <td>7.0</td>\n",
       "      <td>4.9</td>\n",
       "      <td>28</td>\n",
       "      <td>22.4</td>\n",
       "      <td>21.1</td>\n",
       "      <td>0</td>\n",
       "      <td>0</td>\n",
       "    </tr>\n",
       "    <tr>\n",
       "      <th>Urine protein</th>\n",
       "      <td>1.0</td>\n",
       "      <td>1.0</td>\n",
       "      <td>0</td>\n",
       "      <td>1.0</td>\n",
       "      <td>6.0</td>\n",
       "      <td>3093</td>\n",
       "      <td>6</td>\n",
       "    </tr>\n",
       "    <tr>\n",
       "      <th>serum creatinine</th>\n",
       "      <td>0.2</td>\n",
       "      <td>0.1</td>\n",
       "      <td>25</td>\n",
       "      <td>1.6</td>\n",
       "      <td>11.6</td>\n",
       "      <td>116</td>\n",
       "      <td>0</td>\n",
       "    </tr>\n",
       "    <tr>\n",
       "      <th>AST</th>\n",
       "      <td>-8.0</td>\n",
       "      <td>6.0</td>\n",
       "      <td>0</td>\n",
       "      <td>55.0</td>\n",
       "      <td>1311.0</td>\n",
       "      <td>1495</td>\n",
       "      <td>3</td>\n",
       "    </tr>\n",
       "    <tr>\n",
       "      <th>ALT</th>\n",
       "      <td>-33.0</td>\n",
       "      <td>1.0</td>\n",
       "      <td>0</td>\n",
       "      <td>79.0</td>\n",
       "      <td>2914.0</td>\n",
       "      <td>1421</td>\n",
       "      <td>3</td>\n",
       "    </tr>\n",
       "    <tr>\n",
       "      <th>Gtp</th>\n",
       "      <td>-61.0</td>\n",
       "      <td>1.0</td>\n",
       "      <td>0</td>\n",
       "      <td>121.0</td>\n",
       "      <td>999.0</td>\n",
       "      <td>2318</td>\n",
       "      <td>4</td>\n",
       "    </tr>\n",
       "    <tr>\n",
       "      <th>dental caries</th>\n",
       "      <td>0.0</td>\n",
       "      <td>0.0</td>\n",
       "      <td>0</td>\n",
       "      <td>0.0</td>\n",
       "      <td>1.0</td>\n",
       "      <td>11881</td>\n",
       "      <td>21</td>\n",
       "    </tr>\n",
       "    <tr>\n",
       "      <th>tartar</th>\n",
       "      <td>-3.0</td>\n",
       "      <td>0.0</td>\n",
       "      <td>0</td>\n",
       "      <td>4.0</td>\n",
       "      <td>1.0</td>\n",
       "      <td>0</td>\n",
       "      <td>0</td>\n",
       "    </tr>\n",
       "  </tbody>\n",
       "</table>\n",
       "</div>"
      ],
      "text/plain": [
       "                     lower    min  num_lower  upper     max  num_upper  \\\n",
       "gender                -3.0    0.0          0    4.0     1.0          0   \n",
       "age                   -5.0   20.0          0  100.0    85.0          0   \n",
       "height(cm)           130.0  130.0          0  200.0   190.0          0   \n",
       "weight(kg)            -5.0   30.0          0  135.0   135.0          0   \n",
       "waist(cm)             40.0   51.0          0  124.0   129.0          8   \n",
       "eyesight(left)        -0.4    0.1          0    2.4     9.9         92   \n",
       "eyesight(right)       -0.4    0.1          0    2.4     9.9         92   \n",
       "hearing(left)          1.0    1.0          0    1.0     2.0       1425   \n",
       "hearing(right)         1.0    1.0          0    1.0     2.0       1456   \n",
       "systolic              58.0   71.0          0  184.0   240.0         49   \n",
       "relaxation            34.0   40.0          0  118.0   146.0         55   \n",
       "fasting blood sugar   44.0   46.0          0  149.0   505.0       1410   \n",
       "Cholesterol           28.0   55.0          0  364.0   445.0         24   \n",
       "triglyceride        -184.0    8.0          0  418.0   999.0          6   \n",
       "HDL                  -10.0    4.0          0  123.0   618.0         46   \n",
       "LDL                  -40.0    1.0          0  268.0  1860.0         49   \n",
       "hemoglobin             7.0    4.9         28   22.4    21.1          0   \n",
       "Urine protein          1.0    1.0          0    1.0     6.0       3093   \n",
       "serum creatinine       0.2    0.1         25    1.6    11.6        116   \n",
       "AST                   -8.0    6.0          0   55.0  1311.0       1495   \n",
       "ALT                  -33.0    1.0          0   79.0  2914.0       1421   \n",
       "Gtp                  -61.0    1.0          0  121.0   999.0       2318   \n",
       "dental caries          0.0    0.0          0    0.0     1.0      11881   \n",
       "tartar                -3.0    0.0          0    4.0     1.0          0   \n",
       "\n",
       "                     percantage  \n",
       "gender                        0  \n",
       "age                           0  \n",
       "height(cm)                    0  \n",
       "weight(kg)                    0  \n",
       "waist(cm)                     0  \n",
       "eyesight(left)                0  \n",
       "eyesight(right)               0  \n",
       "hearing(left)                 3  \n",
       "hearing(right)                3  \n",
       "systolic                      0  \n",
       "relaxation                    0  \n",
       "fasting blood sugar           3  \n",
       "Cholesterol                   0  \n",
       "triglyceride                  0  \n",
       "HDL                           0  \n",
       "LDL                           0  \n",
       "hemoglobin                    0  \n",
       "Urine protein                 6  \n",
       "serum creatinine              0  \n",
       "AST                           3  \n",
       "ALT                           3  \n",
       "Gtp                           4  \n",
       "dental caries                21  \n",
       "tartar                        0  "
      ]
     },
     "execution_count": 89,
     "metadata": {},
     "output_type": "execute_result"
    }
   ],
   "source": [
    "IQR(X_train, feature_names)"
   ]
  },
  {
   "cell_type": "code",
   "execution_count": 90,
   "id": "16a7ece8",
   "metadata": {},
   "outputs": [],
   "source": [
    "import numpy as np\n",
    "\n",
    "def replace_outliers_with_median(data):\n",
    "    sorted_data = np.sort(data)\n",
    "    q1 = np.percentile(sorted_data, 25)\n",
    "    q3 = np.percentile(sorted_data, 75)\n",
    "    iqr = q3 - q1\n",
    "\n",
    "    lower_bound = q1 - 3 * iqr\n",
    "    upper_bound = q3 + 3 * iqr\n",
    "\n",
    "    median = np.median(data)\n",
    "\n",
    "    replaced_data = np.where(\n",
    "        (data < lower_bound) | (data > upper_bound),\n",
    "        median,\n",
    "        data\n",
    "    )\n",
    "\n",
    "    return replaced_data\n"
   ]
  },
  {
   "cell_type": "code",
   "execution_count": 91,
   "id": "38a5f434",
   "metadata": {},
   "outputs": [],
   "source": [
    "column_num = len(feature_names)\n",
    "for i in range(0,column_num):\n",
    "    column_name = feature_names[i];\n",
    "    p = iqr.iat[i,6];\n",
    "    if p >= 1:\n",
    "        data[column_name] = replace_outliers_with_median(data[column_name])"
   ]
  },
  {
   "cell_type": "code",
   "execution_count": 92,
   "id": "1a257976",
   "metadata": {},
   "outputs": [
    {
     "data": {
      "text/html": [
       "<div>\n",
       "<style scoped>\n",
       "    .dataframe tbody tr th:only-of-type {\n",
       "        vertical-align: middle;\n",
       "    }\n",
       "\n",
       "    .dataframe tbody tr th {\n",
       "        vertical-align: top;\n",
       "    }\n",
       "\n",
       "    .dataframe thead th {\n",
       "        text-align: right;\n",
       "    }\n",
       "</style>\n",
       "<table border=\"1\" class=\"dataframe\">\n",
       "  <thead>\n",
       "    <tr style=\"text-align: right;\">\n",
       "      <th></th>\n",
       "      <th>lower</th>\n",
       "      <th>min</th>\n",
       "      <th>num_lower</th>\n",
       "      <th>upper</th>\n",
       "      <th>max</th>\n",
       "      <th>num_upper</th>\n",
       "      <th>percantage</th>\n",
       "    </tr>\n",
       "  </thead>\n",
       "  <tbody>\n",
       "    <tr>\n",
       "      <th>gender</th>\n",
       "      <td>-3.0</td>\n",
       "      <td>0.0</td>\n",
       "      <td>0</td>\n",
       "      <td>4.0</td>\n",
       "      <td>1.0</td>\n",
       "      <td>0</td>\n",
       "      <td>0</td>\n",
       "    </tr>\n",
       "    <tr>\n",
       "      <th>age</th>\n",
       "      <td>-5.0</td>\n",
       "      <td>20.0</td>\n",
       "      <td>0</td>\n",
       "      <td>100.0</td>\n",
       "      <td>85.0</td>\n",
       "      <td>0</td>\n",
       "      <td>0</td>\n",
       "    </tr>\n",
       "    <tr>\n",
       "      <th>height(cm)</th>\n",
       "      <td>130.0</td>\n",
       "      <td>130.0</td>\n",
       "      <td>0</td>\n",
       "      <td>200.0</td>\n",
       "      <td>190.0</td>\n",
       "      <td>0</td>\n",
       "      <td>0</td>\n",
       "    </tr>\n",
       "    <tr>\n",
       "      <th>weight(kg)</th>\n",
       "      <td>-5.0</td>\n",
       "      <td>30.0</td>\n",
       "      <td>0</td>\n",
       "      <td>135.0</td>\n",
       "      <td>135.0</td>\n",
       "      <td>0</td>\n",
       "      <td>0</td>\n",
       "    </tr>\n",
       "    <tr>\n",
       "      <th>waist(cm)</th>\n",
       "      <td>40.0</td>\n",
       "      <td>51.0</td>\n",
       "      <td>0</td>\n",
       "      <td>124.0</td>\n",
       "      <td>129.0</td>\n",
       "      <td>8</td>\n",
       "      <td>0</td>\n",
       "    </tr>\n",
       "    <tr>\n",
       "      <th>eyesight(left)</th>\n",
       "      <td>-0.4</td>\n",
       "      <td>0.1</td>\n",
       "      <td>0</td>\n",
       "      <td>2.4</td>\n",
       "      <td>9.9</td>\n",
       "      <td>92</td>\n",
       "      <td>0</td>\n",
       "    </tr>\n",
       "    <tr>\n",
       "      <th>eyesight(right)</th>\n",
       "      <td>-0.4</td>\n",
       "      <td>0.1</td>\n",
       "      <td>0</td>\n",
       "      <td>2.4</td>\n",
       "      <td>9.9</td>\n",
       "      <td>92</td>\n",
       "      <td>0</td>\n",
       "    </tr>\n",
       "    <tr>\n",
       "      <th>hearing(left)</th>\n",
       "      <td>1.0</td>\n",
       "      <td>1.0</td>\n",
       "      <td>0</td>\n",
       "      <td>1.0</td>\n",
       "      <td>2.0</td>\n",
       "      <td>1425</td>\n",
       "      <td>3</td>\n",
       "    </tr>\n",
       "    <tr>\n",
       "      <th>hearing(right)</th>\n",
       "      <td>1.0</td>\n",
       "      <td>1.0</td>\n",
       "      <td>0</td>\n",
       "      <td>1.0</td>\n",
       "      <td>2.0</td>\n",
       "      <td>1456</td>\n",
       "      <td>3</td>\n",
       "    </tr>\n",
       "    <tr>\n",
       "      <th>systolic</th>\n",
       "      <td>58.0</td>\n",
       "      <td>71.0</td>\n",
       "      <td>0</td>\n",
       "      <td>184.0</td>\n",
       "      <td>240.0</td>\n",
       "      <td>49</td>\n",
       "      <td>0</td>\n",
       "    </tr>\n",
       "    <tr>\n",
       "      <th>relaxation</th>\n",
       "      <td>34.0</td>\n",
       "      <td>40.0</td>\n",
       "      <td>0</td>\n",
       "      <td>118.0</td>\n",
       "      <td>146.0</td>\n",
       "      <td>55</td>\n",
       "      <td>0</td>\n",
       "    </tr>\n",
       "    <tr>\n",
       "      <th>fasting blood sugar</th>\n",
       "      <td>44.0</td>\n",
       "      <td>46.0</td>\n",
       "      <td>0</td>\n",
       "      <td>149.0</td>\n",
       "      <td>505.0</td>\n",
       "      <td>1410</td>\n",
       "      <td>3</td>\n",
       "    </tr>\n",
       "    <tr>\n",
       "      <th>Cholesterol</th>\n",
       "      <td>28.0</td>\n",
       "      <td>55.0</td>\n",
       "      <td>0</td>\n",
       "      <td>364.0</td>\n",
       "      <td>445.0</td>\n",
       "      <td>24</td>\n",
       "      <td>0</td>\n",
       "    </tr>\n",
       "    <tr>\n",
       "      <th>triglyceride</th>\n",
       "      <td>-184.0</td>\n",
       "      <td>8.0</td>\n",
       "      <td>0</td>\n",
       "      <td>418.0</td>\n",
       "      <td>999.0</td>\n",
       "      <td>6</td>\n",
       "      <td>0</td>\n",
       "    </tr>\n",
       "    <tr>\n",
       "      <th>HDL</th>\n",
       "      <td>-10.0</td>\n",
       "      <td>4.0</td>\n",
       "      <td>0</td>\n",
       "      <td>123.0</td>\n",
       "      <td>618.0</td>\n",
       "      <td>46</td>\n",
       "      <td>0</td>\n",
       "    </tr>\n",
       "    <tr>\n",
       "      <th>LDL</th>\n",
       "      <td>-40.0</td>\n",
       "      <td>1.0</td>\n",
       "      <td>0</td>\n",
       "      <td>268.0</td>\n",
       "      <td>1860.0</td>\n",
       "      <td>49</td>\n",
       "      <td>0</td>\n",
       "    </tr>\n",
       "    <tr>\n",
       "      <th>hemoglobin</th>\n",
       "      <td>7.0</td>\n",
       "      <td>4.9</td>\n",
       "      <td>28</td>\n",
       "      <td>22.4</td>\n",
       "      <td>21.1</td>\n",
       "      <td>0</td>\n",
       "      <td>0</td>\n",
       "    </tr>\n",
       "    <tr>\n",
       "      <th>Urine protein</th>\n",
       "      <td>1.0</td>\n",
       "      <td>1.0</td>\n",
       "      <td>0</td>\n",
       "      <td>1.0</td>\n",
       "      <td>6.0</td>\n",
       "      <td>3093</td>\n",
       "      <td>6</td>\n",
       "    </tr>\n",
       "    <tr>\n",
       "      <th>serum creatinine</th>\n",
       "      <td>0.2</td>\n",
       "      <td>0.1</td>\n",
       "      <td>25</td>\n",
       "      <td>1.6</td>\n",
       "      <td>11.6</td>\n",
       "      <td>116</td>\n",
       "      <td>0</td>\n",
       "    </tr>\n",
       "    <tr>\n",
       "      <th>AST</th>\n",
       "      <td>-8.0</td>\n",
       "      <td>6.0</td>\n",
       "      <td>0</td>\n",
       "      <td>55.0</td>\n",
       "      <td>1311.0</td>\n",
       "      <td>1495</td>\n",
       "      <td>3</td>\n",
       "    </tr>\n",
       "    <tr>\n",
       "      <th>ALT</th>\n",
       "      <td>-33.0</td>\n",
       "      <td>1.0</td>\n",
       "      <td>0</td>\n",
       "      <td>79.0</td>\n",
       "      <td>2914.0</td>\n",
       "      <td>1421</td>\n",
       "      <td>3</td>\n",
       "    </tr>\n",
       "    <tr>\n",
       "      <th>Gtp</th>\n",
       "      <td>-61.0</td>\n",
       "      <td>1.0</td>\n",
       "      <td>0</td>\n",
       "      <td>121.0</td>\n",
       "      <td>999.0</td>\n",
       "      <td>2318</td>\n",
       "      <td>4</td>\n",
       "    </tr>\n",
       "    <tr>\n",
       "      <th>dental caries</th>\n",
       "      <td>0.0</td>\n",
       "      <td>0.0</td>\n",
       "      <td>0</td>\n",
       "      <td>0.0</td>\n",
       "      <td>1.0</td>\n",
       "      <td>11881</td>\n",
       "      <td>21</td>\n",
       "    </tr>\n",
       "    <tr>\n",
       "      <th>tartar</th>\n",
       "      <td>-3.0</td>\n",
       "      <td>0.0</td>\n",
       "      <td>0</td>\n",
       "      <td>4.0</td>\n",
       "      <td>1.0</td>\n",
       "      <td>0</td>\n",
       "      <td>0</td>\n",
       "    </tr>\n",
       "  </tbody>\n",
       "</table>\n",
       "</div>"
      ],
      "text/plain": [
       "                     lower    min  num_lower  upper     max  num_upper  \\\n",
       "gender                -3.0    0.0          0    4.0     1.0          0   \n",
       "age                   -5.0   20.0          0  100.0    85.0          0   \n",
       "height(cm)           130.0  130.0          0  200.0   190.0          0   \n",
       "weight(kg)            -5.0   30.0          0  135.0   135.0          0   \n",
       "waist(cm)             40.0   51.0          0  124.0   129.0          8   \n",
       "eyesight(left)        -0.4    0.1          0    2.4     9.9         92   \n",
       "eyesight(right)       -0.4    0.1          0    2.4     9.9         92   \n",
       "hearing(left)          1.0    1.0          0    1.0     2.0       1425   \n",
       "hearing(right)         1.0    1.0          0    1.0     2.0       1456   \n",
       "systolic              58.0   71.0          0  184.0   240.0         49   \n",
       "relaxation            34.0   40.0          0  118.0   146.0         55   \n",
       "fasting blood sugar   44.0   46.0          0  149.0   505.0       1410   \n",
       "Cholesterol           28.0   55.0          0  364.0   445.0         24   \n",
       "triglyceride        -184.0    8.0          0  418.0   999.0          6   \n",
       "HDL                  -10.0    4.0          0  123.0   618.0         46   \n",
       "LDL                  -40.0    1.0          0  268.0  1860.0         49   \n",
       "hemoglobin             7.0    4.9         28   22.4    21.1          0   \n",
       "Urine protein          1.0    1.0          0    1.0     6.0       3093   \n",
       "serum creatinine       0.2    0.1         25    1.6    11.6        116   \n",
       "AST                   -8.0    6.0          0   55.0  1311.0       1495   \n",
       "ALT                  -33.0    1.0          0   79.0  2914.0       1421   \n",
       "Gtp                  -61.0    1.0          0  121.0   999.0       2318   \n",
       "dental caries          0.0    0.0          0    0.0     1.0      11881   \n",
       "tartar                -3.0    0.0          0    4.0     1.0          0   \n",
       "\n",
       "                     percantage  \n",
       "gender                        0  \n",
       "age                           0  \n",
       "height(cm)                    0  \n",
       "weight(kg)                    0  \n",
       "waist(cm)                     0  \n",
       "eyesight(left)                0  \n",
       "eyesight(right)               0  \n",
       "hearing(left)                 3  \n",
       "hearing(right)                3  \n",
       "systolic                      0  \n",
       "relaxation                    0  \n",
       "fasting blood sugar           3  \n",
       "Cholesterol                   0  \n",
       "triglyceride                  0  \n",
       "HDL                           0  \n",
       "LDL                           0  \n",
       "hemoglobin                    0  \n",
       "Urine protein                 6  \n",
       "serum creatinine              0  \n",
       "AST                           3  \n",
       "ALT                           3  \n",
       "Gtp                           4  \n",
       "dental caries                21  \n",
       "tartar                        0  "
      ]
     },
     "execution_count": 92,
     "metadata": {},
     "output_type": "execute_result"
    }
   ],
   "source": [
    "IQR(X_train, feature_names)"
   ]
  },
  {
   "cell_type": "markdown",
   "id": "01f84597",
   "metadata": {},
   "source": [
    "Mozemo zakljuciti da nam menjanje autlajera medijanom nije pomoglo. :)"
   ]
  },
  {
   "cell_type": "markdown",
   "id": "bfc5842b",
   "metadata": {},
   "source": [
    "Normalizacija:"
   ]
  },
  {
   "cell_type": "code",
   "execution_count": 93,
   "id": "a9db992f",
   "metadata": {},
   "outputs": [],
   "source": [
    "from sklearn.preprocessing import MinMaxScaler\n",
    "scaler = MinMaxScaler()\n",
    "scaler.fit(X_train)\n",
    "X_train = scaler.transform(X_train)\n",
    "X_test = scaler.transform(X_test)"
   ]
  },
  {
   "cell_type": "code",
   "execution_count": null,
   "id": "74eabd15",
   "metadata": {},
   "outputs": [],
   "source": []
  },
  {
   "cell_type": "code",
   "execution_count": 94,
   "id": "e33c7dc5",
   "metadata": {},
   "outputs": [
    {
     "data": {
      "text/plain": [
       "array([[ 0.06123489, -0.71402853, -0.05347332],\n",
       "       [ 0.04894811, -0.72601615, -0.05794324],\n",
       "       [-0.47623149,  0.05449262, -0.38971533],\n",
       "       ...,\n",
       "       [ 0.86695188, -0.03875523,  0.06192796],\n",
       "       [-0.51699299,  0.03300803, -0.38672843],\n",
       "       [-0.49750933,  0.0338846 , -0.39447792]])"
      ]
     },
     "execution_count": 94,
     "metadata": {},
     "output_type": "execute_result"
    }
   ],
   "source": [
    "from sklearn.decomposition import PCA\n",
    "pca = PCA(n_components=3)\n",
    "pca.fit_transform(X_train)\n"
   ]
  },
  {
   "cell_type": "code",
   "execution_count": 95,
   "id": "c2f13838",
   "metadata": {},
   "outputs": [
    {
     "data": {
      "text/plain": [
       "(3, 24)"
      ]
     },
     "execution_count": 95,
     "metadata": {},
     "output_type": "execute_result"
    }
   ],
   "source": [
    "pca.components_.shape"
   ]
  },
  {
   "cell_type": "code",
   "execution_count": 96,
   "id": "ea758ed0",
   "metadata": {},
   "outputs": [],
   "source": [
    "pca_names = [f'Principal_component_{i}' for i in range(pca.n_components_)]"
   ]
  },
  {
   "cell_type": "code",
   "execution_count": 97,
   "id": "72ec4412",
   "metadata": {},
   "outputs": [
    {
     "name": "stdout",
     "output_type": "stream",
     "text": [
      "Principal_component_0 = -0.70*gender + 0.12*age + -0.20*height(cm) + -0.12*weight(kg) + -0.08*waist(cm) + -0.01*eyesight(left) + -0.01*eyesight(right) + 0.01*hearing(left) + 0.01*hearing(right) + -0.02*systolic + -0.03*relaxation + -0.01*fasting blood sugar + 0.01*Cholesterol + -0.06*triglyceride + 0.01*HDL + 0.00*LDL + -0.11*hemoglobin + -0.00*Urine protein + -0.01*serum creatinine + -0.00*AST + -0.00*ALT + -0.02*Gtp + -0.29*dental caries + -0.58*tartar\n",
      "--------------------------------------------------------------------------------\n",
      "Principal_component_1 = -0.60*gender + 0.05*age + -0.16*height(cm) + -0.09*weight(kg) + -0.07*waist(cm) + -0.01*eyesight(left) + -0.01*eyesight(right) + -0.01*hearing(left) + -0.00*hearing(right) + -0.02*systolic + -0.02*relaxation + -0.01*fasting blood sugar + 0.01*Cholesterol + -0.04*triglyceride + 0.01*HDL + 0.00*LDL + -0.09*hemoglobin + -0.00*Urine protein + -0.01*serum creatinine + -0.00*AST + -0.00*ALT + -0.01*Gtp + 0.19*dental caries + 0.75*tartar\n",
      "--------------------------------------------------------------------------------\n",
      "Principal_component_2 = -0.11*gender + -0.02*age + -0.03*height(cm) + -0.01*weight(kg) + -0.01*waist(cm) + -0.00*eyesight(left) + -0.00*eyesight(right) + 0.00*hearing(left) + -0.00*hearing(right) + -0.00*systolic + -0.00*relaxation + -0.00*fasting blood sugar + 0.00*Cholesterol + -0.01*triglyceride + 0.00*HDL + 0.00*LDL + -0.02*hemoglobin + 0.00*Urine protein + -0.00*serum creatinine + -0.00*AST + -0.00*ALT + -0.00*Gtp + 0.94*dental caries + -0.34*tartar\n",
      "--------------------------------------------------------------------------------\n"
     ]
    }
   ],
   "source": [
    "for i, component in enumerate(pca.components_):\n",
    "    print(f'{pca_names[i]} = ', end='')\n",
    "    print(' + '.join(f'{coef:.2f}*{feature_name}'\n",
    "                     for coef, feature_name in zip(component, feature_names)))\n",
    "    print('-'*80)\n"
   ]
  },
  {
   "cell_type": "code",
   "execution_count": 98,
   "id": "11c741fe",
   "metadata": {},
   "outputs": [
    {
     "data": {
      "image/png": "[encoded data removed]",
      "text/plain": [
       "<Figure size 1600x200 with 2 Axes>"
      ]
     },
     "metadata": {},
     "output_type": "display_data"
    }
   ],
   "source": [
    "from matplotlib import pyplot as plt\n",
    "\n",
    "plt.matshow(pca.components_)\n",
    "plt.xticks(ticks=range(pca.components_.shape[1]),\n",
    "           labels=feature_names,\n",
    "           rotation='vertical')\n",
    "plt.yticks(ticks=range(pca.n_components_),\n",
    "           labels=pca_names)\n",
    "plt.colorbar()\n",
    "plt.show()"
   ]
  },
  {
   "cell_type": "code",
   "execution_count": 99,
   "id": "ee9c5412",
   "metadata": {},
   "outputs": [
    {
     "data": {
      "text/plain": [
       "array([0.28656239, 0.24282757, 0.15350848])"
      ]
     },
     "execution_count": 99,
     "metadata": {},
     "output_type": "execute_result"
    }
   ],
   "source": [
    "pca.explained_variance_"
   ]
  },
  {
   "cell_type": "code",
   "execution_count": 100,
   "id": "19fc05d6",
   "metadata": {},
   "outputs": [
    {
     "data": {
      "text/plain": [
       "array([0.33356355, 0.28265548, 0.17868651])"
      ]
     },
     "execution_count": 100,
     "metadata": {},
     "output_type": "execute_result"
    }
   ],
   "source": [
    "pca.explained_variance_ratio_"
   ]
  },
  {
   "cell_type": "code",
   "execution_count": 101,
   "id": "bd86b312",
   "metadata": {},
   "outputs": [
    {
     "data": {
      "image/png": "[encoded data removed]",
      "text/plain": [
       "<Figure size 640x480 with 1 Axes>"
      ]
     },
     "metadata": {},
     "output_type": "display_data"
    }
   ],
   "source": [
    "plt.bar(x=pca_names,\n",
    "        height=pca.explained_variance_ratio_)\n",
    "plt.title('Udeo objasnjene varijanse svake od glavnih komponenti pojedinacno')\n",
    "plt.show()"
   ]
  },
  {
   "cell_type": "code",
   "execution_count": 102,
   "id": "e57498bf",
   "metadata": {},
   "outputs": [
    {
     "data": {
      "image/png": "[encoded data removed]",
      "text/plain": [
       "<Figure size 640x480 with 1 Axes>"
      ]
     },
     "metadata": {},
     "output_type": "display_data"
    }
   ],
   "source": [
    "import numpy as np\n",
    "\n",
    "cumulative_variance_ratio = np.cumsum(pca.explained_variance_ratio_)\n",
    "\n",
    "plt.plot(pca_names, cumulative_variance_ratio, marker='o')\n",
    "plt.title('Kumulativna suma udela objasnjene varijanse')\n",
    "plt.show()"
   ]
  },
  {
   "cell_type": "markdown",
   "id": "8d2bcca2",
   "metadata": {},
   "source": [
    "Mozemo primetiti da prve tri glavne komponente objasnjavaju ukupno vise oko 80% ukupne varijanse podataka."
   ]
  },
  {
   "cell_type": "code",
   "execution_count": null,
   "id": "232a8c2f",
   "metadata": {},
   "outputs": [],
   "source": []
  },
  {
   "cell_type": "code",
   "execution_count": 103,
   "id": "9515ef81",
   "metadata": {},
   "outputs": [],
   "source": [
    "from sklearn.metrics import classification_report\n",
    "from termcolor import colored\n",
    "\n",
    "def report(model, x, y, text = \"training\"):\n",
    "    y_pred = model.predict(x)\n",
    "    \n",
    "    print(colored(\"Izvestaj o klasifikaciji za model{} nad {} podacima\".format(type(model).__name__, text), \"green\"))\n",
    "    print(\"---------------------------------------------------------------------------------\")\n",
    "    print(classification_report(y, y_pred))\n",
    "    print(\"---------------------------------------------------------------------------------\")\n",
    "    \n",
    "    print(colored(\"Matrica konfuzije za model {} nad {} podacima \".format(type(model).__name__, text), \"green\"))\n",
    "    print(\"---------------------------------------------------------------------------------\")\n",
    "    print(pd.DataFrame(confusion_matrix(y, y_pred), columns=['1', '0'], index=['1', '0']))\n",
    "    print(\"---------------------------------------------------------------------------------\")\n",
    "    \n"
   ]
  },
  {
   "cell_type": "markdown",
   "id": "fe04f2b7",
   "metadata": {},
   "source": [
    "Treniramo model:"
   ]
  },
  {
   "cell_type": "code",
   "execution_count": 104,
   "id": "fc38d92c",
   "metadata": {},
   "outputs": [
    {
     "data": {
      "text/html": [
       "<style>#sk-container-id-5 {color: black;background-color: white;}#sk-container-id-5 pre{padding: 0;}#sk-container-id-5 div.sk-toggleable {background-color: white;}#sk-container-id-5 label.sk-toggleable__label {cursor: pointer;display: block;width: 100%;margin-bottom: 0;padding: 0.3em;box-sizing: border-box;text-align: center;}#sk-container-id-5 label.sk-toggleable__label-arrow:before {content: \"▸\";float: left;margin-right: 0.25em;color: #696969;}#sk-container-id-5 label.sk-toggleable__label-arrow:hover:before {color: black;}#sk-container-id-5 div.sk-estimator:hover label.sk-toggleable__label-arrow:before {color: black;}#sk-container-id-5 div.sk-toggleable__content {max-height: 0;max-width: 0;overflow: hidden;text-align: left;background-color: #f0f8ff;}#sk-container-id-5 div.sk-toggleable__content pre {margin: 0.2em;color: black;border-radius: 0.25em;background-color: #f0f8ff;}#sk-container-id-5 input.sk-toggleable__control:checked~div.sk-toggleable__content {max-height: 200px;max-width: 100%;overflow: auto;}#sk-container-id-5 input.sk-toggleable__control:checked~label.sk-toggleable__label-arrow:before {content: \"▾\";}#sk-container-id-5 div.sk-estimator input.sk-toggleable__control:checked~label.sk-toggleable__label {background-color: #d4ebff;}#sk-container-id-5 div.sk-label input.sk-toggleable__control:checked~label.sk-toggleable__label {background-color: #d4ebff;}#sk-container-id-5 input.sk-hidden--visually {border: 0;clip: rect(1px 1px 1px 1px);clip: rect(1px, 1px, 1px, 1px);height: 1px;margin: -1px;overflow: hidden;padding: 0;position: absolute;width: 1px;}#sk-container-id-5 div.sk-estimator {font-family: monospace;background-color: #f0f8ff;border: 1px dotted black;border-radius: 0.25em;box-sizing: border-box;margin-bottom: 0.5em;}#sk-container-id-5 div.sk-estimator:hover {background-color: #d4ebff;}#sk-container-id-5 div.sk-parallel-item::after {content: \"\";width: 100%;border-bottom: 1px solid gray;flex-grow: 1;}#sk-container-id-5 div.sk-label:hover label.sk-toggleable__label {background-color: #d4ebff;}#sk-container-id-5 div.sk-serial::before {content: \"\";position: absolute;border-left: 1px solid gray;box-sizing: border-box;top: 0;bottom: 0;left: 50%;z-index: 0;}#sk-container-id-5 div.sk-serial {display: flex;flex-direction: column;align-items: center;background-color: white;padding-right: 0.2em;padding-left: 0.2em;position: relative;}#sk-container-id-5 div.sk-item {position: relative;z-index: 1;}#sk-container-id-5 div.sk-parallel {display: flex;align-items: stretch;justify-content: center;background-color: white;position: relative;}#sk-container-id-5 div.sk-item::before, #sk-container-id-5 div.sk-parallel-item::before {content: \"\";position: absolute;border-left: 1px solid gray;box-sizing: border-box;top: 0;bottom: 0;left: 50%;z-index: -1;}#sk-container-id-5 div.sk-parallel-item {display: flex;flex-direction: column;z-index: 1;position: relative;background-color: white;}#sk-container-id-5 div.sk-parallel-item:first-child::after {align-self: flex-end;width: 50%;}#sk-container-id-5 div.sk-parallel-item:last-child::after {align-self: flex-start;width: 50%;}#sk-container-id-5 div.sk-parallel-item:only-child::after {width: 0;}#sk-container-id-5 div.sk-dashed-wrapped {border: 1px dashed gray;margin: 0 0.4em 0.5em 0.4em;box-sizing: border-box;padding-bottom: 0.4em;background-color: white;}#sk-container-id-5 div.sk-label label {font-family: monospace;font-weight: bold;display: inline-block;line-height: 1.2em;}#sk-container-id-5 div.sk-label-container {text-align: center;}#sk-container-id-5 div.sk-container {/* jupyter's `normalize.less` sets `[hidden] { display: none; }` but bootstrap.min.css set `[hidden] { display: none !important; }` so we also need the `!important` here to be able to override the default hidden behavior on the sphinx rendered scikit-learn.org. See: https://github.com/scikit-learn/scikit-learn/issues/21755 */display: inline-block !important;position: relative;}#sk-container-id-5 div.sk-text-repr-fallback {display: none;}</style><div id=\"sk-container-id-5\" class=\"sk-top-container\"><div class=\"sk-text-repr-fallback\"><pre>KNeighborsClassifier()</pre><b>In a Jupyter environment, please rerun this cell to show the HTML representation or trust the notebook. <br />On GitHub, the HTML representation is unable to render, please try loading this page with nbviewer.org.</b></div><div class=\"sk-container\" hidden><div class=\"sk-item\"><div class=\"sk-estimator sk-toggleable\"><input class=\"sk-toggleable__control sk-hidden--visually\" id=\"sk-estimator-id-9\" type=\"checkbox\" checked><label for=\"sk-estimator-id-9\" class=\"sk-toggleable__label sk-toggleable__label-arrow\">KNeighborsClassifier</label><div class=\"sk-toggleable__content\"><pre>KNeighborsClassifier()</pre></div></div></div></div></div>"
      ],
      "text/plain": [
       "KNeighborsClassifier()"
      ]
     },
     "execution_count": 104,
     "metadata": {},
     "output_type": "execute_result"
    }
   ],
   "source": [
    "knn = KNeighborsClassifier()\n",
    "knn.fit(X_train, Y_train) # treninranje modela"
   ]
  },
  {
   "cell_type": "code",
   "execution_count": 105,
   "id": "c923bcfb",
   "metadata": {},
   "outputs": [
    {
     "name": "stdout",
     "output_type": "stream",
     "text": [
      "\u001b[32mIzvestaj o klasifikaciji za modelKNeighborsClassifier nad training podacima\u001b[0m\n",
      "---------------------------------------------------------------------------------\n",
      "              precision    recall  f1-score   support\n",
      "\n",
      "           0       0.86      0.86      0.86     23608\n",
      "           1       0.76      0.75      0.76     13705\n",
      "\n",
      "    accuracy                           0.82     37313\n",
      "   macro avg       0.81      0.81      0.81     37313\n",
      "weighted avg       0.82      0.82      0.82     37313\n",
      "\n",
      "---------------------------------------------------------------------------------\n",
      "\u001b[32mMatrica konfuzije za model KNeighborsClassifier nad training podacima \u001b[0m\n",
      "---------------------------------------------------------------------------------\n",
      "       1      0\n",
      "1  20343   3265\n",
      "0   3388  10317\n",
      "---------------------------------------------------------------------------------\n"
     ]
    }
   ],
   "source": [
    "report(knn, X_train, Y_train)"
   ]
  },
  {
   "cell_type": "markdown",
   "id": "9805314a",
   "metadata": {},
   "source": [
    "Vidimo da je f1-score nad trening skupom 0.86, dok je  nad test skupom 0.79."
   ]
  },
  {
   "cell_type": "code",
   "execution_count": 106,
   "id": "62f199fb",
   "metadata": {},
   "outputs": [
    {
     "name": "stdout",
     "output_type": "stream",
     "text": [
      "\u001b[32mIzvestaj o klasifikaciji za modelKNeighborsClassifier nad test podacima\u001b[0m\n",
      "---------------------------------------------------------------------------------\n",
      "              precision    recall  f1-score   support\n",
      "\n",
      "           0       0.79      0.79      0.79     11629\n",
      "           1       0.64      0.63      0.63      6750\n",
      "\n",
      "    accuracy                           0.73     18379\n",
      "   macro avg       0.71      0.71      0.71     18379\n",
      "weighted avg       0.73      0.73      0.73     18379\n",
      "\n",
      "---------------------------------------------------------------------------------\n",
      "\u001b[32mMatrica konfuzije za model KNeighborsClassifier nad test podacima \u001b[0m\n",
      "---------------------------------------------------------------------------------\n",
      "      1     0\n",
      "1  9225  2404\n",
      "0  2505  4245\n",
      "---------------------------------------------------------------------------------\n"
     ]
    }
   ],
   "source": [
    "report(knn, X_test, Y_test, \"test\")"
   ]
  },
  {
   "cell_type": "markdown",
   "id": "fc748812",
   "metadata": {},
   "source": [
    "Unapredjenje podesavanjem hiperparametara. Proveravamo koja kombinacija hiper-parametara ce dati najbolji model:"
   ]
  },
  {
   "cell_type": "code",
   "execution_count": 119,
   "id": "28b5989d",
   "metadata": {},
   "outputs": [
    {
     "data": {
      "text/plain": [
       "194"
      ]
     },
     "execution_count": 119,
     "metadata": {},
     "output_type": "execute_result"
    }
   ],
   "source": [
    "import math\n",
    "math.ceil(math.sqrt(X_train.shape[0]))"
   ]
  },
  {
   "cell_type": "code",
   "execution_count": 127,
   "id": "22fb263d",
   "metadata": {},
   "outputs": [
    {
     "name": "stdout",
     "output_type": "stream",
     "text": [
      "Fitting 10 folds for each of 24 candidates, totalling 240 fits\n"
     ]
    },
    {
     "data": {
      "text/html": [
       "<style>#sk-container-id-9 {color: black;background-color: white;}#sk-container-id-9 pre{padding: 0;}#sk-container-id-9 div.sk-toggleable {background-color: white;}#sk-container-id-9 label.sk-toggleable__label {cursor: pointer;display: block;width: 100%;margin-bottom: 0;padding: 0.3em;box-sizing: border-box;text-align: center;}#sk-container-id-9 label.sk-toggleable__label-arrow:before {content: \"▸\";float: left;margin-right: 0.25em;color: #696969;}#sk-container-id-9 label.sk-toggleable__label-arrow:hover:before {color: black;}#sk-container-id-9 div.sk-estimator:hover label.sk-toggleable__label-arrow:before {color: black;}#sk-container-id-9 div.sk-toggleable__content {max-height: 0;max-width: 0;overflow: hidden;text-align: left;background-color: #f0f8ff;}#sk-container-id-9 div.sk-toggleable__content pre {margin: 0.2em;color: black;border-radius: 0.25em;background-color: #f0f8ff;}#sk-container-id-9 input.sk-toggleable__control:checked~div.sk-toggleable__content {max-height: 200px;max-width: 100%;overflow: auto;}#sk-container-id-9 input.sk-toggleable__control:checked~label.sk-toggleable__label-arrow:before {content: \"▾\";}#sk-container-id-9 div.sk-estimator input.sk-toggleable__control:checked~label.sk-toggleable__label {background-color: #d4ebff;}#sk-container-id-9 div.sk-label input.sk-toggleable__control:checked~label.sk-toggleable__label {background-color: #d4ebff;}#sk-container-id-9 input.sk-hidden--visually {border: 0;clip: rect(1px 1px 1px 1px);clip: rect(1px, 1px, 1px, 1px);height: 1px;margin: -1px;overflow: hidden;padding: 0;position: absolute;width: 1px;}#sk-container-id-9 div.sk-estimator {font-family: monospace;background-color: #f0f8ff;border: 1px dotted black;border-radius: 0.25em;box-sizing: border-box;margin-bottom: 0.5em;}#sk-container-id-9 div.sk-estimator:hover {background-color: #d4ebff;}#sk-container-id-9 div.sk-parallel-item::after {content: \"\";width: 100%;border-bottom: 1px solid gray;flex-grow: 1;}#sk-container-id-9 div.sk-label:hover label.sk-toggleable__label {background-color: #d4ebff;}#sk-container-id-9 div.sk-serial::before {content: \"\";position: absolute;border-left: 1px solid gray;box-sizing: border-box;top: 0;bottom: 0;left: 50%;z-index: 0;}#sk-container-id-9 div.sk-serial {display: flex;flex-direction: column;align-items: center;background-color: white;padding-right: 0.2em;padding-left: 0.2em;position: relative;}#sk-container-id-9 div.sk-item {position: relative;z-index: 1;}#sk-container-id-9 div.sk-parallel {display: flex;align-items: stretch;justify-content: center;background-color: white;position: relative;}#sk-container-id-9 div.sk-item::before, #sk-container-id-9 div.sk-parallel-item::before {content: \"\";position: absolute;border-left: 1px solid gray;box-sizing: border-box;top: 0;bottom: 0;left: 50%;z-index: -1;}#sk-container-id-9 div.sk-parallel-item {display: flex;flex-direction: column;z-index: 1;position: relative;background-color: white;}#sk-container-id-9 div.sk-parallel-item:first-child::after {align-self: flex-end;width: 50%;}#sk-container-id-9 div.sk-parallel-item:last-child::after {align-self: flex-start;width: 50%;}#sk-container-id-9 div.sk-parallel-item:only-child::after {width: 0;}#sk-container-id-9 div.sk-dashed-wrapped {border: 1px dashed gray;margin: 0 0.4em 0.5em 0.4em;box-sizing: border-box;padding-bottom: 0.4em;background-color: white;}#sk-container-id-9 div.sk-label label {font-family: monospace;font-weight: bold;display: inline-block;line-height: 1.2em;}#sk-container-id-9 div.sk-label-container {text-align: center;}#sk-container-id-9 div.sk-container {/* jupyter's `normalize.less` sets `[hidden] { display: none; }` but bootstrap.min.css set `[hidden] { display: none !important; }` so we also need the `!important` here to be able to override the default hidden behavior on the sphinx rendered scikit-learn.org. See: https://github.com/scikit-learn/scikit-learn/issues/21755 */display: inline-block !important;position: relative;}#sk-container-id-9 div.sk-text-repr-fallback {display: none;}</style><div id=\"sk-container-id-9\" class=\"sk-top-container\"><div class=\"sk-text-repr-fallback\"><pre>GridSearchCV(cv=10, estimator=KNeighborsClassifier(), n_jobs=-1,\n",
       "             param_grid={&#x27;metric&#x27;: [&#x27;minkowski&#x27;, &#x27;manhattan&#x27;, &#x27;l1&#x27;, &#x27;l2&#x27;],\n",
       "                         &#x27;n_neighbors&#x27;: [70, 160, 180],\n",
       "                         &#x27;weights&#x27;: [&#x27;uniform&#x27;, &#x27;distance&#x27;]},\n",
       "             return_train_score=True, scoring=&#x27;accuracy&#x27;, verbose=1)</pre><b>In a Jupyter environment, please rerun this cell to show the HTML representation or trust the notebook. <br />On GitHub, the HTML representation is unable to render, please try loading this page with nbviewer.org.</b></div><div class=\"sk-container\" hidden><div class=\"sk-item sk-dashed-wrapped\"><div class=\"sk-label-container\"><div class=\"sk-label sk-toggleable\"><input class=\"sk-toggleable__control sk-hidden--visually\" id=\"sk-estimator-id-19\" type=\"checkbox\" ><label for=\"sk-estimator-id-19\" class=\"sk-toggleable__label sk-toggleable__label-arrow\">GridSearchCV</label><div class=\"sk-toggleable__content\"><pre>GridSearchCV(cv=10, estimator=KNeighborsClassifier(), n_jobs=-1,\n",
       "             param_grid={&#x27;metric&#x27;: [&#x27;minkowski&#x27;, &#x27;manhattan&#x27;, &#x27;l1&#x27;, &#x27;l2&#x27;],\n",
       "                         &#x27;n_neighbors&#x27;: [70, 160, 180],\n",
       "                         &#x27;weights&#x27;: [&#x27;uniform&#x27;, &#x27;distance&#x27;]},\n",
       "             return_train_score=True, scoring=&#x27;accuracy&#x27;, verbose=1)</pre></div></div></div><div class=\"sk-parallel\"><div class=\"sk-parallel-item\"><div class=\"sk-item\"><div class=\"sk-label-container\"><div class=\"sk-label sk-toggleable\"><input class=\"sk-toggleable__control sk-hidden--visually\" id=\"sk-estimator-id-20\" type=\"checkbox\" ><label for=\"sk-estimator-id-20\" class=\"sk-toggleable__label sk-toggleable__label-arrow\">estimator: KNeighborsClassifier</label><div class=\"sk-toggleable__content\"><pre>KNeighborsClassifier()</pre></div></div></div><div class=\"sk-serial\"><div class=\"sk-item\"><div class=\"sk-estimator sk-toggleable\"><input class=\"sk-toggleable__control sk-hidden--visually\" id=\"sk-estimator-id-21\" type=\"checkbox\" ><label for=\"sk-estimator-id-21\" class=\"sk-toggleable__label sk-toggleable__label-arrow\">KNeighborsClassifier</label><div class=\"sk-toggleable__content\"><pre>KNeighborsClassifier()</pre></div></div></div></div></div></div></div></div></div></div>"
      ],
      "text/plain": [
       "GridSearchCV(cv=10, estimator=KNeighborsClassifier(), n_jobs=-1,\n",
       "             param_grid={'metric': ['minkowski', 'manhattan', 'l1', 'l2'],\n",
       "                         'n_neighbors': [70, 160, 180],\n",
       "                         'weights': ['uniform', 'distance']},\n",
       "             return_train_score=True, scoring='accuracy', verbose=1)"
      ]
     },
     "execution_count": 127,
     "metadata": {},
     "output_type": "execute_result"
    }
   ],
   "source": [
    "from sklearn.model_selection import GridSearchCV\n",
    "param_grid={\n",
    "    'n_neighbors':[70,160,180], \n",
    "    'weights': ['uniform', 'distance'],\n",
    "    'metric':['minkowski','manhattan','l1','l2']\n",
    "}\n",
    "\n",
    "# Tune the model.\n",
    "tuning_knn = GridSearchCV(knn, param_grid, verbose = 1, cv=10, \n",
    "                          scoring='accuracy', n_jobs = -1, return_train_score=True)\n",
    "tuning_knn.fit(X_train, Y_train)"
   ]
  },
  {
   "cell_type": "code",
   "execution_count": 128,
   "id": "76ed5a27",
   "metadata": {},
   "outputs": [
    {
     "data": {
      "text/plain": [
       "{'metric': 'manhattan', 'n_neighbors': 160, 'weights': 'distance'}"
      ]
     },
     "execution_count": 128,
     "metadata": {},
     "output_type": "execute_result"
    }
   ],
   "source": [
    "tuning_knn.best_params_"
   ]
  },
  {
   "cell_type": "code",
   "execution_count": 129,
   "id": "dcec7d81",
   "metadata": {},
   "outputs": [
    {
     "data": {
      "text/plain": [
       "0.8030979686143986"
      ]
     },
     "execution_count": 129,
     "metadata": {},
     "output_type": "execute_result"
    }
   ],
   "source": [
    "tuning_knn.best_score_"
   ]
  },
  {
   "cell_type": "code",
   "execution_count": 130,
   "id": "d4a5d60c",
   "metadata": {},
   "outputs": [
    {
     "name": "stdout",
     "output_type": "stream",
     "text": [
      "\u001b[32mIzvestaj o klasifikaciji za modelKNeighborsClassifier nad training podacima\u001b[0m\n",
      "---------------------------------------------------------------------------------\n",
      "              precision    recall  f1-score   support\n",
      "\n",
      "           0       1.00      1.00      1.00     23608\n",
      "           1       1.00      1.00      1.00     13705\n",
      "\n",
      "    accuracy                           1.00     37313\n",
      "   macro avg       1.00      1.00      1.00     37313\n",
      "weighted avg       1.00      1.00      1.00     37313\n",
      "\n",
      "---------------------------------------------------------------------------------\n",
      "\u001b[32mMatrica konfuzije za model KNeighborsClassifier nad training podacima \u001b[0m\n",
      "---------------------------------------------------------------------------------\n",
      "       1      0\n",
      "1  23608      0\n",
      "0      0  13705\n",
      "---------------------------------------------------------------------------------\n"
     ]
    }
   ],
   "source": [
    "report(tuning_knn.best_estimator_, X_train, Y_train)"
   ]
  },
  {
   "cell_type": "markdown",
   "id": "c37a698d",
   "metadata": {},
   "source": [
    "PREPRILAGODIO SE???!!!!???"
   ]
  },
  {
   "cell_type": "code",
   "execution_count": 132,
   "id": "9b28752a",
   "metadata": {},
   "outputs": [
    {
     "name": "stdout",
     "output_type": "stream",
     "text": [
      "\u001b[32mIzvestaj o klasifikaciji za modelKNeighborsClassifier nad test podacima\u001b[0m\n",
      "---------------------------------------------------------------------------------\n",
      "              precision    recall  f1-score   support\n",
      "\n",
      "           0       0.86      0.83      0.85     11629\n",
      "           1       0.73      0.78      0.75      6750\n",
      "\n",
      "    accuracy                           0.81     18379\n",
      "   macro avg       0.80      0.80      0.80     18379\n",
      "weighted avg       0.81      0.81      0.81     18379\n",
      "\n",
      "---------------------------------------------------------------------------------\n",
      "\u001b[32mMatrica konfuzije za model KNeighborsClassifier nad test podacima \u001b[0m\n",
      "---------------------------------------------------------------------------------\n",
      "      1     0\n",
      "1  9666  1963\n",
      "0  1510  5240\n",
      "---------------------------------------------------------------------------------\n"
     ]
    }
   ],
   "source": [
    "report(tuning_knn.best_estimator_, X_test, Y_test, \"test\")"
   ]
  },
  {
   "cell_type": "code",
   "execution_count": 134,
   "id": "0f985a4e",
   "metadata": {},
   "outputs": [
    {
     "data": {
      "image/png": "[encoded data removed]",
      "text/plain": [
       "<Figure size 640x480 with 1 Axes>"
      ]
     },
     "metadata": {},
     "output_type": "display_data"
    }
   ],
   "source": [
    "from sklearn.metrics import roc_curve, roc_auc_score\n",
    "models = [knn, tuning_knn.best_estimator_]\n",
    "model_names = ['KNearestNeighbors', 'GridSearchCV']\n",
    "for model, model_name in zip(models, model_names):\n",
    "    y_pred = model.predict(X_test)\n",
    "    fpr,tpr, _ = roc_curve(Y_test, y_pred)\n",
    "    auc = roc_auc_score(Y_test, y_pred)\n",
    "    lab = model_name + \"(auc: \" + str(round(auc, 2)) + \")\"\n",
    "    plt.plot(fpr, tpr, label=lab)\n",
    "\n",
    "plt.plot([0, 1], [0, 1], label='Random (auc: 0.5)', color='red')\n",
    "plt.title(\"Model comparison\")\n",
    "plt.legend()\n",
    "plt.show()\n"
   ]
  },
  {
   "cell_type": "code",
   "execution_count": null,
   "id": "0db9d73e",
   "metadata": {},
   "outputs": [],
   "source": []
  }
 ],
 "metadata": {
  "kernelspec": {
   "display_name": "Python 3 (ipykernel)",
   "language": "python",
   "name": "python3"
  },
  "language_info": {
   "codemirror_mode": {
    "name": "ipython",
    "version": 3
   },
   "file_extension": ".py",
   "mimetype": "text/x-python",
   "name": "python",
   "nbconvert_exporter": "python",
   "pygments_lexer": "ipython3",
   "version": "3.8.10"
  }
 },
 "nbformat": 4,
 "nbformat_minor": 5
}
