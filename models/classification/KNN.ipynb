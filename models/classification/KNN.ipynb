{
 "cells": [
  {
   "cell_type": "code",
   "execution_count": 16,
   "id": "ee918f8c",
   "metadata": {},
   "outputs": [],
   "source": [
    "import pandas as pd\n",
    "from matplotlib import pyplot as plt\n",
    "from sklearn.model_selection import train_test_split\n",
    "from sklearn.metrics import confusion_matrix\n",
    "import seaborn as sns\n",
    "from sklearn.neighbors import KNeighborsClassifier "
   ]
  },
  {
   "cell_type": "code",
   "execution_count": 17,
   "id": "2f36d96f",
   "metadata": {},
   "outputs": [
    {
     "data": {
      "text/plain": [
       "Index(['Unnamed: 0', 'gender', 'age', 'height(cm)', 'weight(kg)',\n",
       "       'eyesight(left)', 'hearing(left)', 'hearing(right)', 'relaxation',\n",
       "       'fasting blood sugar', 'Cholesterol', 'triglyceride', 'HDL',\n",
       "       'hemoglobin', 'Urine protein', 'serum creatinine', 'AST', 'Gtp',\n",
       "       'dental caries', 'tartar', 'smoking'],\n",
       "      dtype='object')"
      ]
     },
     "execution_count": 17,
     "metadata": {},
     "output_type": "execute_result"
    }
   ],
   "source": [
    "data = pd.read_csv(\"/home/ivana/Desktop/IP-projekat/2023_Data_Mining_Smoking_Dataset/datasets/data1.csv\")\n",
    "data.columns"
   ]
  },
  {
   "cell_type": "code",
   "execution_count": 18,
   "id": "f95532c6",
   "metadata": {},
   "outputs": [],
   "source": [
    "data.drop('Unnamed: 0', axis=1,inplace=True)"
   ]
  },
  {
   "cell_type": "code",
   "execution_count": 19,
   "id": "9612d422",
   "metadata": {},
   "outputs": [
    {
     "data": {
      "text/plain": [
       "(55692, 20)"
      ]
     },
     "execution_count": 19,
     "metadata": {},
     "output_type": "execute_result"
    }
   ],
   "source": [
    "data.shape"
   ]
  },
  {
   "cell_type": "code",
   "execution_count": 20,
   "id": "bd776038",
   "metadata": {},
   "outputs": [
    {
     "data": {
      "text/html": [
       "<div>\n",
       "<style scoped>\n",
       "    .dataframe tbody tr th:only-of-type {\n",
       "        vertical-align: middle;\n",
       "    }\n",
       "\n",
       "    .dataframe tbody tr th {\n",
       "        vertical-align: top;\n",
       "    }\n",
       "\n",
       "    .dataframe thead th {\n",
       "        text-align: right;\n",
       "    }\n",
       "</style>\n",
       "<table border=\"1\" class=\"dataframe\">\n",
       "  <thead>\n",
       "    <tr style=\"text-align: right;\">\n",
       "      <th></th>\n",
       "      <th>gender</th>\n",
       "      <th>age</th>\n",
       "      <th>height(cm)</th>\n",
       "      <th>weight(kg)</th>\n",
       "      <th>eyesight(left)</th>\n",
       "      <th>hearing(left)</th>\n",
       "      <th>hearing(right)</th>\n",
       "      <th>relaxation</th>\n",
       "      <th>fasting blood sugar</th>\n",
       "      <th>Cholesterol</th>\n",
       "      <th>triglyceride</th>\n",
       "      <th>HDL</th>\n",
       "      <th>hemoglobin</th>\n",
       "      <th>Urine protein</th>\n",
       "      <th>serum creatinine</th>\n",
       "      <th>AST</th>\n",
       "      <th>Gtp</th>\n",
       "      <th>dental caries</th>\n",
       "      <th>tartar</th>\n",
       "    </tr>\n",
       "  </thead>\n",
       "  <tbody>\n",
       "    <tr>\n",
       "      <th>0</th>\n",
       "      <td>0</td>\n",
       "      <td>40</td>\n",
       "      <td>155</td>\n",
       "      <td>60</td>\n",
       "      <td>1.2</td>\n",
       "      <td>1.0</td>\n",
       "      <td>1.0</td>\n",
       "      <td>73.0</td>\n",
       "      <td>94.0</td>\n",
       "      <td>215.0</td>\n",
       "      <td>82.0</td>\n",
       "      <td>73.0</td>\n",
       "      <td>12.9</td>\n",
       "      <td>1.0</td>\n",
       "      <td>0.7</td>\n",
       "      <td>18.0</td>\n",
       "      <td>27.0</td>\n",
       "      <td>0</td>\n",
       "      <td>1</td>\n",
       "    </tr>\n",
       "    <tr>\n",
       "      <th>1</th>\n",
       "      <td>0</td>\n",
       "      <td>40</td>\n",
       "      <td>160</td>\n",
       "      <td>60</td>\n",
       "      <td>0.8</td>\n",
       "      <td>1.0</td>\n",
       "      <td>1.0</td>\n",
       "      <td>70.0</td>\n",
       "      <td>130.0</td>\n",
       "      <td>192.0</td>\n",
       "      <td>115.0</td>\n",
       "      <td>42.0</td>\n",
       "      <td>12.7</td>\n",
       "      <td>1.0</td>\n",
       "      <td>0.6</td>\n",
       "      <td>22.0</td>\n",
       "      <td>18.0</td>\n",
       "      <td>0</td>\n",
       "      <td>1</td>\n",
       "    </tr>\n",
       "    <tr>\n",
       "      <th>2</th>\n",
       "      <td>1</td>\n",
       "      <td>55</td>\n",
       "      <td>170</td>\n",
       "      <td>60</td>\n",
       "      <td>0.8</td>\n",
       "      <td>1.0</td>\n",
       "      <td>1.0</td>\n",
       "      <td>86.0</td>\n",
       "      <td>89.0</td>\n",
       "      <td>242.0</td>\n",
       "      <td>182.0</td>\n",
       "      <td>55.0</td>\n",
       "      <td>15.8</td>\n",
       "      <td>1.0</td>\n",
       "      <td>1.0</td>\n",
       "      <td>21.0</td>\n",
       "      <td>22.0</td>\n",
       "      <td>0</td>\n",
       "      <td>0</td>\n",
       "    </tr>\n",
       "    <tr>\n",
       "      <th>3</th>\n",
       "      <td>1</td>\n",
       "      <td>40</td>\n",
       "      <td>165</td>\n",
       "      <td>70</td>\n",
       "      <td>1.5</td>\n",
       "      <td>1.0</td>\n",
       "      <td>1.0</td>\n",
       "      <td>60.0</td>\n",
       "      <td>96.0</td>\n",
       "      <td>322.0</td>\n",
       "      <td>254.0</td>\n",
       "      <td>45.0</td>\n",
       "      <td>14.7</td>\n",
       "      <td>1.0</td>\n",
       "      <td>1.0</td>\n",
       "      <td>19.0</td>\n",
       "      <td>18.0</td>\n",
       "      <td>0</td>\n",
       "      <td>1</td>\n",
       "    </tr>\n",
       "    <tr>\n",
       "      <th>4</th>\n",
       "      <td>0</td>\n",
       "      <td>40</td>\n",
       "      <td>155</td>\n",
       "      <td>60</td>\n",
       "      <td>1.0</td>\n",
       "      <td>1.0</td>\n",
       "      <td>1.0</td>\n",
       "      <td>74.0</td>\n",
       "      <td>80.0</td>\n",
       "      <td>184.0</td>\n",
       "      <td>74.0</td>\n",
       "      <td>62.0</td>\n",
       "      <td>12.5</td>\n",
       "      <td>1.0</td>\n",
       "      <td>0.6</td>\n",
       "      <td>16.0</td>\n",
       "      <td>22.0</td>\n",
       "      <td>0</td>\n",
       "      <td>0</td>\n",
       "    </tr>\n",
       "  </tbody>\n",
       "</table>\n",
       "</div>"
      ],
      "text/plain": [
       "   gender  age  height(cm)  weight(kg)  eyesight(left)  hearing(left)  \\\n",
       "0       0   40         155          60             1.2            1.0   \n",
       "1       0   40         160          60             0.8            1.0   \n",
       "2       1   55         170          60             0.8            1.0   \n",
       "3       1   40         165          70             1.5            1.0   \n",
       "4       0   40         155          60             1.0            1.0   \n",
       "\n",
       "   hearing(right)  relaxation  fasting blood sugar  Cholesterol  triglyceride  \\\n",
       "0             1.0        73.0                 94.0        215.0          82.0   \n",
       "1             1.0        70.0                130.0        192.0         115.0   \n",
       "2             1.0        86.0                 89.0        242.0         182.0   \n",
       "3             1.0        60.0                 96.0        322.0         254.0   \n",
       "4             1.0        74.0                 80.0        184.0          74.0   \n",
       "\n",
       "    HDL  hemoglobin  Urine protein  serum creatinine   AST   Gtp  \\\n",
       "0  73.0        12.9            1.0               0.7  18.0  27.0   \n",
       "1  42.0        12.7            1.0               0.6  22.0  18.0   \n",
       "2  55.0        15.8            1.0               1.0  21.0  22.0   \n",
       "3  45.0        14.7            1.0               1.0  19.0  18.0   \n",
       "4  62.0        12.5            1.0               0.6  16.0  22.0   \n",
       "\n",
       "   dental caries  tartar  \n",
       "0              0       1  \n",
       "1              0       1  \n",
       "2              0       0  \n",
       "3              0       1  \n",
       "4              0       0  "
      ]
     },
     "execution_count": 20,
     "metadata": {},
     "output_type": "execute_result"
    }
   ],
   "source": [
    "Y = data['smoking']\n",
    "X = data.drop('smoking', axis=1)\n",
    "feature_names = X.columns\n",
    "X.head()"
   ]
  },
  {
   "cell_type": "code",
   "execution_count": 21,
   "id": "fff6c069",
   "metadata": {},
   "outputs": [],
   "source": [
    "X_train, X_test, Y_train, Y_test = train_test_split(X, Y, test_size=0.30, stratify=Y, random_state=12)"
   ]
  },
  {
   "cell_type": "markdown",
   "id": "bfc5842b",
   "metadata": {},
   "source": [
    "Normalizacija"
   ]
  },
  {
   "cell_type": "code",
   "execution_count": 22,
   "id": "a9db992f",
   "metadata": {},
   "outputs": [],
   "source": [
    "from sklearn.preprocessing import MinMaxScaler\n",
    "scaler = MinMaxScaler()\n",
    "scaler.fit(X_train)\n",
    "X_train = scaler.transform(X_train)\n",
    "X_test = scaler.transform(X_test)"
   ]
  },
  {
   "cell_type": "code",
   "execution_count": 23,
   "id": "e33c7dc5",
   "metadata": {},
   "outputs": [
    {
     "data": {
      "text/plain": [
       "array([[-0.77367328,  0.22450401,  0.5449917 ,  0.04192824, -0.10993592,\n",
       "         0.14460418],\n",
       "       [-0.51178699,  0.01842673, -0.38376473, -0.21245397,  0.24315374,\n",
       "        -0.18092467],\n",
       "       [ 0.08759039, -0.72097173, -0.0608838 , -0.02063598, -0.0562659 ,\n",
       "         0.15395195],\n",
       "       ...,\n",
       "       [ 0.87255479, -0.00334426,  0.06365922, -0.13725589,  0.0675163 ,\n",
       "         0.09758968],\n",
       "       [-0.51879937,  0.01127546, -0.38731518, -0.16305507,  0.15463885,\n",
       "         0.02967088],\n",
       "       [-0.85036041,  0.16774364,  0.54405957, -0.14744607,  0.14219351,\n",
       "         0.0795006 ]])"
      ]
     },
     "execution_count": 23,
     "metadata": {},
     "output_type": "execute_result"
    }
   ],
   "source": [
    "from sklearn.decomposition import PCA\n",
    "pca = PCA(n_components=6)\n",
    "pca.fit_transform(X_train)\n"
   ]
  },
  {
   "cell_type": "code",
   "execution_count": 24,
   "id": "c2f13838",
   "metadata": {},
   "outputs": [
    {
     "data": {
      "text/plain": [
       "(6, 19)"
      ]
     },
     "execution_count": 24,
     "metadata": {},
     "output_type": "execute_result"
    }
   ],
   "source": [
    "pca.components_.shape"
   ]
  },
  {
   "cell_type": "code",
   "execution_count": 25,
   "id": "ea758ed0",
   "metadata": {},
   "outputs": [],
   "source": [
    "pca_names = [f'Principal_component_{i}' for i in range(pca.n_components_)]"
   ]
  },
  {
   "cell_type": "code",
   "execution_count": 26,
   "id": "72ec4412",
   "metadata": {},
   "outputs": [
    {
     "name": "stdout",
     "output_type": "stream",
     "text": [
      "Principal_component_0 = -0.68*gender + 0.12*age + -0.19*height(cm) + -0.11*weight(kg) + -0.01*eyesight(left) + 0.01*hearing(left) + 0.01*hearing(right) + -0.03*relaxation + -0.01*fasting blood sugar + 0.01*Cholesterol + -0.05*triglyceride + 0.01*HDL + -0.10*hemoglobin + -0.00*Urine protein + -0.01*serum creatinine + -0.00*AST + -0.02*Gtp + -0.30*dental caries + -0.60*tartar\n",
      "--------------------------------------------------------------------------------\n",
      "Principal_component_1 = -0.63*gender + 0.06*age + -0.17*height(cm) + -0.10*weight(kg) + -0.01*eyesight(left) + -0.01*hearing(left) + -0.00*hearing(right) + -0.02*relaxation + -0.01*fasting blood sugar + 0.01*Cholesterol + -0.04*triglyceride + 0.01*HDL + -0.09*hemoglobin + -0.00*Urine protein + -0.01*serum creatinine + -0.00*AST + -0.01*Gtp + 0.18*dental caries + 0.72*tartar\n",
      "--------------------------------------------------------------------------------\n",
      "Principal_component_2 = -0.11*gender + -0.02*age + -0.03*height(cm) + -0.01*weight(kg) + -0.00*eyesight(left) + -0.00*hearing(left) + -0.00*hearing(right) + -0.00*relaxation + -0.00*fasting blood sugar + 0.00*Cholesterol + -0.01*triglyceride + 0.00*HDL + -0.02*hemoglobin + 0.00*Urine protein + -0.00*serum creatinine + -0.00*AST + -0.00*Gtp + 0.93*dental caries + -0.34*tartar\n",
      "--------------------------------------------------------------------------------\n",
      "Principal_component_3 = 0.14*gender + 0.57*age + -0.17*height(cm) + -0.07*weight(kg) + -0.03*eyesight(left) + 0.54*hearing(left) + 0.56*hearing(right) + 0.04*relaxation + 0.04*fasting blood sugar + 0.01*Cholesterol + 0.07*triglyceride + -0.01*HDL + 0.00*hemoglobin + 0.02*Urine protein + 0.00*serum creatinine + 0.00*AST + 0.02*Gtp + 0.03*dental caries + 0.03*tartar\n",
      "--------------------------------------------------------------------------------\n",
      "Principal_component_4 = -0.14*gender + -0.68*age + 0.24*height(cm) + 0.08*weight(kg) + 0.03*eyesight(left) + 0.43*hearing(left) + 0.45*hearing(right) + -0.09*relaxation + -0.05*fasting blood sugar + -0.08*Cholesterol + -0.20*triglyceride + 0.02*HDL + -0.02*hemoglobin + -0.02*Urine protein + -0.01*serum creatinine + -0.01*AST + -0.04*Gtp + -0.03*dental caries + -0.01*tartar\n",
      "--------------------------------------------------------------------------------\n",
      "Principal_component_5 = -0.19*gender + -0.11*age + 0.13*height(cm) + 0.37*weight(kg) + 0.01*eyesight(left) + 0.07*hearing(left) + 0.06*hearing(right) + 0.22*relaxation + 0.06*fasting blood sugar + 0.32*Cholesterol + 0.79*triglyceride + -0.05*HDL + 0.11*hemoglobin + 0.03*Urine protein + -0.00*serum creatinine + 0.01*AST + 0.09*Gtp + -0.01*dental caries + -0.01*tartar\n",
      "--------------------------------------------------------------------------------\n"
     ]
    }
   ],
   "source": [
    "for i, component in enumerate(pca.components_):\n",
    "    print(f'{pca_names[i]} = ', end='')\n",
    "    print(' + '.join(f'{coef:.2f}*{feature_name}'\n",
    "                     for coef, feature_name in zip(component, feature_names)))\n",
    "    print('-'*80)\n"
   ]
  },
  {
   "cell_type": "code",
   "execution_count": 27,
   "id": "bd86b312",
   "metadata": {},
   "outputs": [
    {
     "data": {
      "image/png": "[encoded data removed]",
      "text/plain": [
       "<Figure size 640x480 with 1 Axes>"
      ]
     },
     "metadata": {},
     "output_type": "display_data"
    }
   ],
   "source": [
    "plt.bar(x=['PC1', 'PC2', 'PC3', 'PC4', 'PC5', 'PC6'],\n",
    "        height=pca.explained_variance_ratio_)\n",
    "plt.title('Udeo objasnjene varijanse svake od glavnih komponenti pojedinacno')\n",
    "plt.show()"
   ]
  },
  {
   "cell_type": "code",
   "execution_count": 28,
   "id": "e57498bf",
   "metadata": {},
   "outputs": [
    {
     "data": {
      "image/png": "[encoded data removed]",
      "text/plain": [
       "<Figure size 640x480 with 1 Axes>"
      ]
     },
     "metadata": {},
     "output_type": "display_data"
    }
   ],
   "source": [
    "import numpy as np\n",
    "\n",
    "cumulative_variance_ratio = np.cumsum(pca.explained_variance_ratio_)\n",
    "\n",
    "plt.plot(['PC1', 'PC2', 'PC3', 'PC4', 'PC5', 'PC6'], cumulative_variance_ratio, marker='o')\n",
    "plt.title('Kumulativna suma udela objasnjene varijanse')\n",
    "plt.show()"
   ]
  },
  {
   "cell_type": "markdown",
   "id": "8d2bcca2",
   "metadata": {},
   "source": [
    "Mozemo primetiti da prvih sest glavnih komponenti objasnjavaju ukupno vise od 90% ukupne varijanse podataka."
   ]
  },
  {
   "cell_type": "code",
   "execution_count": 29,
   "id": "9515ef81",
   "metadata": {},
   "outputs": [],
   "source": [
    "from sklearn.metrics import classification_report\n",
    "from termcolor import colored\n",
    "\n",
    "def report(model, x, y, text = \"training\"):\n",
    "    y_pred = model.predict(x)\n",
    "    \n",
    "    print(colored(\"Izvestaj o klasifikaciji za model{} nad {} podacima\".format(type(model).__name__, text), \"green\"))\n",
    "    print(\"---------------------------------------------------------------------------------\")\n",
    "    print(classification_report(y, y_pred))\n",
    "    print(\"---------------------------------------------------------------------------------\")\n",
    "    \n",
    "    print(colored(\"Matrica konfuzije za model {} nad {} podacima \".format(type(model).__name__, text), \"green\"))\n",
    "    print(\"---------------------------------------------------------------------------------\")\n",
    "    print(pd.DataFrame(confusion_matrix(y, y_pred), columns=['1', '0'], index=['1', '0']))\n",
    "    print(\"---------------------------------------------------------------------------------\")\n",
    "    \n"
   ]
  },
  {
   "cell_type": "code",
   "execution_count": 30,
   "id": "4a054783",
   "metadata": {},
   "outputs": [],
   "source": [
    "from imblearn.over_sampling import RandomOverSampler\n",
    "\n",
    "# Balansiranje skupa\n",
    "ros = RandomOverSampler(random_state=0)\n",
    "X_train, Y_train = ros.fit_resample(X_train, Y_train)"
   ]
  },
  {
   "cell_type": "markdown",
   "id": "cd82f119",
   "metadata": {},
   "source": [
    "treniramo model:"
   ]
  },
  {
   "cell_type": "code",
   "execution_count": 31,
   "id": "4c2b3852",
   "metadata": {},
   "outputs": [
    {
     "data": {
      "text/html": [
       "<style>#sk-container-id-1 {color: black;background-color: white;}#sk-container-id-1 pre{padding: 0;}#sk-container-id-1 div.sk-toggleable {background-color: white;}#sk-container-id-1 label.sk-toggleable__label {cursor: pointer;display: block;width: 100%;margin-bottom: 0;padding: 0.3em;box-sizing: border-box;text-align: center;}#sk-container-id-1 label.sk-toggleable__label-arrow:before {content: \"▸\";float: left;margin-right: 0.25em;color: #696969;}#sk-container-id-1 label.sk-toggleable__label-arrow:hover:before {color: black;}#sk-container-id-1 div.sk-estimator:hover label.sk-toggleable__label-arrow:before {color: black;}#sk-container-id-1 div.sk-toggleable__content {max-height: 0;max-width: 0;overflow: hidden;text-align: left;background-color: #f0f8ff;}#sk-container-id-1 div.sk-toggleable__content pre {margin: 0.2em;color: black;border-radius: 0.25em;background-color: #f0f8ff;}#sk-container-id-1 input.sk-toggleable__control:checked~div.sk-toggleable__content {max-height: 200px;max-width: 100%;overflow: auto;}#sk-container-id-1 input.sk-toggleable__control:checked~label.sk-toggleable__label-arrow:before {content: \"▾\";}#sk-container-id-1 div.sk-estimator input.sk-toggleable__control:checked~label.sk-toggleable__label {background-color: #d4ebff;}#sk-container-id-1 div.sk-label input.sk-toggleable__control:checked~label.sk-toggleable__label {background-color: #d4ebff;}#sk-container-id-1 input.sk-hidden--visually {border: 0;clip: rect(1px 1px 1px 1px);clip: rect(1px, 1px, 1px, 1px);height: 1px;margin: -1px;overflow: hidden;padding: 0;position: absolute;width: 1px;}#sk-container-id-1 div.sk-estimator {font-family: monospace;background-color: #f0f8ff;border: 1px dotted black;border-radius: 0.25em;box-sizing: border-box;margin-bottom: 0.5em;}#sk-container-id-1 div.sk-estimator:hover {background-color: #d4ebff;}#sk-container-id-1 div.sk-parallel-item::after {content: \"\";width: 100%;border-bottom: 1px solid gray;flex-grow: 1;}#sk-container-id-1 div.sk-label:hover label.sk-toggleable__label {background-color: #d4ebff;}#sk-container-id-1 div.sk-serial::before {content: \"\";position: absolute;border-left: 1px solid gray;box-sizing: border-box;top: 0;bottom: 0;left: 50%;z-index: 0;}#sk-container-id-1 div.sk-serial {display: flex;flex-direction: column;align-items: center;background-color: white;padding-right: 0.2em;padding-left: 0.2em;position: relative;}#sk-container-id-1 div.sk-item {position: relative;z-index: 1;}#sk-container-id-1 div.sk-parallel {display: flex;align-items: stretch;justify-content: center;background-color: white;position: relative;}#sk-container-id-1 div.sk-item::before, #sk-container-id-1 div.sk-parallel-item::before {content: \"\";position: absolute;border-left: 1px solid gray;box-sizing: border-box;top: 0;bottom: 0;left: 50%;z-index: -1;}#sk-container-id-1 div.sk-parallel-item {display: flex;flex-direction: column;z-index: 1;position: relative;background-color: white;}#sk-container-id-1 div.sk-parallel-item:first-child::after {align-self: flex-end;width: 50%;}#sk-container-id-1 div.sk-parallel-item:last-child::after {align-self: flex-start;width: 50%;}#sk-container-id-1 div.sk-parallel-item:only-child::after {width: 0;}#sk-container-id-1 div.sk-dashed-wrapped {border: 1px dashed gray;margin: 0 0.4em 0.5em 0.4em;box-sizing: border-box;padding-bottom: 0.4em;background-color: white;}#sk-container-id-1 div.sk-label label {font-family: monospace;font-weight: bold;display: inline-block;line-height: 1.2em;}#sk-container-id-1 div.sk-label-container {text-align: center;}#sk-container-id-1 div.sk-container {/* jupyter's `normalize.less` sets `[hidden] { display: none; }` but bootstrap.min.css set `[hidden] { display: none !important; }` so we also need the `!important` here to be able to override the default hidden behavior on the sphinx rendered scikit-learn.org. See: https://github.com/scikit-learn/scikit-learn/issues/21755 */display: inline-block !important;position: relative;}#sk-container-id-1 div.sk-text-repr-fallback {display: none;}</style><div id=\"sk-container-id-1\" class=\"sk-top-container\"><div class=\"sk-text-repr-fallback\"><pre>KNeighborsClassifier()</pre><b>In a Jupyter environment, please rerun this cell to show the HTML representation or trust the notebook. <br />On GitHub, the HTML representation is unable to render, please try loading this page with nbviewer.org.</b></div><div class=\"sk-container\" hidden><div class=\"sk-item\"><div class=\"sk-estimator sk-toggleable\"><input class=\"sk-toggleable__control sk-hidden--visually\" id=\"sk-estimator-id-1\" type=\"checkbox\" checked><label for=\"sk-estimator-id-1\" class=\"sk-toggleable__label sk-toggleable__label-arrow\">KNeighborsClassifier</label><div class=\"sk-toggleable__content\"><pre>KNeighborsClassifier()</pre></div></div></div></div></div>"
      ],
      "text/plain": [
       "KNeighborsClassifier()"
      ]
     },
     "execution_count": 31,
     "metadata": {},
     "output_type": "execute_result"
    }
   ],
   "source": [
    "# Kreiranje KNeighborsClassifier modela\n",
    "knn = KNeighborsClassifier()\n",
    "\n",
    "# Treniranje modela na balansiranom skupu za treniranje\n",
    "knn.fit(X_train, Y_train)\n"
   ]
  },
  {
   "cell_type": "code",
   "execution_count": 32,
   "id": "90436c10",
   "metadata": {},
   "outputs": [
    {
     "name": "stdout",
     "output_type": "stream",
     "text": [
      "\u001b[32mIzvestaj o klasifikaciji za modelKNeighborsClassifier nad training podacima\u001b[0m\n",
      "---------------------------------------------------------------------------------\n",
      "              precision    recall  f1-score   support\n",
      "\n",
      "           0       0.89      0.79      0.84     24666\n",
      "           1       0.81      0.91      0.86     24666\n",
      "\n",
      "    accuracy                           0.85     49332\n",
      "   macro avg       0.85      0.85      0.85     49332\n",
      "weighted avg       0.85      0.85      0.85     49332\n",
      "\n",
      "---------------------------------------------------------------------------------\n",
      "\u001b[32mMatrica konfuzije za model KNeighborsClassifier nad training podacima \u001b[0m\n",
      "---------------------------------------------------------------------------------\n",
      "       1      0\n",
      "1  19551   5115\n",
      "0   2332  22334\n",
      "---------------------------------------------------------------------------------\n"
     ]
    }
   ],
   "source": [
    "report(knn, X_train, Y_train)"
   ]
  },
  {
   "cell_type": "code",
   "execution_count": 33,
   "id": "75fafa02",
   "metadata": {},
   "outputs": [
    {
     "name": "stdout",
     "output_type": "stream",
     "text": [
      "\u001b[32mIzvestaj o klasifikaciji za modelKNeighborsClassifier nad test podacima\u001b[0m\n",
      "---------------------------------------------------------------------------------\n",
      "              precision    recall  f1-score   support\n",
      "\n",
      "           0       0.83      0.72      0.77     10571\n",
      "           1       0.61      0.75      0.67      6137\n",
      "\n",
      "    accuracy                           0.73     16708\n",
      "   macro avg       0.72      0.73      0.72     16708\n",
      "weighted avg       0.75      0.73      0.73     16708\n",
      "\n",
      "---------------------------------------------------------------------------------\n",
      "\u001b[32mMatrica konfuzije za model KNeighborsClassifier nad test podacima \u001b[0m\n",
      "---------------------------------------------------------------------------------\n",
      "      1     0\n",
      "1  7593  2978\n",
      "0  1564  4573\n",
      "---------------------------------------------------------------------------------\n"
     ]
    }
   ],
   "source": [
    "report(knn, X_test, Y_test, \"test\")"
   ]
  },
  {
   "cell_type": "markdown",
   "id": "0a810f74",
   "metadata": {},
   "source": [
    " F1 score na test skupu je 71.5%. "
   ]
  },
  {
   "cell_type": "markdown",
   "id": "fc748812",
   "metadata": {},
   "source": [
    "# Podesavanje hiper-parametara"
   ]
  },
  {
   "cell_type": "code",
   "execution_count": 34,
   "id": "22fb263d",
   "metadata": {},
   "outputs": [],
   "source": [
    "from sklearn.model_selection import GridSearchCV\n",
    "params={\n",
    "    'n_neighbors':[70,160,180], \n",
    "    'weights': ['uniform', 'distance'],\n",
    "    'p': [1, 2]\n",
    "}\n",
    "params1={\n",
    "    'n_neighbors':[20, 30, 40, 50, 60], \n",
    "    'weights': ['uniform', 'distance'],\n",
    "    'p': [1, 2]\n",
    "}"
   ]
  },
  {
   "cell_type": "code",
   "execution_count": 35,
   "id": "81ff0426",
   "metadata": {},
   "outputs": [
    {
     "data": {
      "text/html": [
       "<style>#sk-container-id-2 {color: black;background-color: white;}#sk-container-id-2 pre{padding: 0;}#sk-container-id-2 div.sk-toggleable {background-color: white;}#sk-container-id-2 label.sk-toggleable__label {cursor: pointer;display: block;width: 100%;margin-bottom: 0;padding: 0.3em;box-sizing: border-box;text-align: center;}#sk-container-id-2 label.sk-toggleable__label-arrow:before {content: \"▸\";float: left;margin-right: 0.25em;color: #696969;}#sk-container-id-2 label.sk-toggleable__label-arrow:hover:before {color: black;}#sk-container-id-2 div.sk-estimator:hover label.sk-toggleable__label-arrow:before {color: black;}#sk-container-id-2 div.sk-toggleable__content {max-height: 0;max-width: 0;overflow: hidden;text-align: left;background-color: #f0f8ff;}#sk-container-id-2 div.sk-toggleable__content pre {margin: 0.2em;color: black;border-radius: 0.25em;background-color: #f0f8ff;}#sk-container-id-2 input.sk-toggleable__control:checked~div.sk-toggleable__content {max-height: 200px;max-width: 100%;overflow: auto;}#sk-container-id-2 input.sk-toggleable__control:checked~label.sk-toggleable__label-arrow:before {content: \"▾\";}#sk-container-id-2 div.sk-estimator input.sk-toggleable__control:checked~label.sk-toggleable__label {background-color: #d4ebff;}#sk-container-id-2 div.sk-label input.sk-toggleable__control:checked~label.sk-toggleable__label {background-color: #d4ebff;}#sk-container-id-2 input.sk-hidden--visually {border: 0;clip: rect(1px 1px 1px 1px);clip: rect(1px, 1px, 1px, 1px);height: 1px;margin: -1px;overflow: hidden;padding: 0;position: absolute;width: 1px;}#sk-container-id-2 div.sk-estimator {font-family: monospace;background-color: #f0f8ff;border: 1px dotted black;border-radius: 0.25em;box-sizing: border-box;margin-bottom: 0.5em;}#sk-container-id-2 div.sk-estimator:hover {background-color: #d4ebff;}#sk-container-id-2 div.sk-parallel-item::after {content: \"\";width: 100%;border-bottom: 1px solid gray;flex-grow: 1;}#sk-container-id-2 div.sk-label:hover label.sk-toggleable__label {background-color: #d4ebff;}#sk-container-id-2 div.sk-serial::before {content: \"\";position: absolute;border-left: 1px solid gray;box-sizing: border-box;top: 0;bottom: 0;left: 50%;z-index: 0;}#sk-container-id-2 div.sk-serial {display: flex;flex-direction: column;align-items: center;background-color: white;padding-right: 0.2em;padding-left: 0.2em;position: relative;}#sk-container-id-2 div.sk-item {position: relative;z-index: 1;}#sk-container-id-2 div.sk-parallel {display: flex;align-items: stretch;justify-content: center;background-color: white;position: relative;}#sk-container-id-2 div.sk-item::before, #sk-container-id-2 div.sk-parallel-item::before {content: \"\";position: absolute;border-left: 1px solid gray;box-sizing: border-box;top: 0;bottom: 0;left: 50%;z-index: -1;}#sk-container-id-2 div.sk-parallel-item {display: flex;flex-direction: column;z-index: 1;position: relative;background-color: white;}#sk-container-id-2 div.sk-parallel-item:first-child::after {align-self: flex-end;width: 50%;}#sk-container-id-2 div.sk-parallel-item:last-child::after {align-self: flex-start;width: 50%;}#sk-container-id-2 div.sk-parallel-item:only-child::after {width: 0;}#sk-container-id-2 div.sk-dashed-wrapped {border: 1px dashed gray;margin: 0 0.4em 0.5em 0.4em;box-sizing: border-box;padding-bottom: 0.4em;background-color: white;}#sk-container-id-2 div.sk-label label {font-family: monospace;font-weight: bold;display: inline-block;line-height: 1.2em;}#sk-container-id-2 div.sk-label-container {text-align: center;}#sk-container-id-2 div.sk-container {/* jupyter's `normalize.less` sets `[hidden] { display: none; }` but bootstrap.min.css set `[hidden] { display: none !important; }` so we also need the `!important` here to be able to override the default hidden behavior on the sphinx rendered scikit-learn.org. See: https://github.com/scikit-learn/scikit-learn/issues/21755 */display: inline-block !important;position: relative;}#sk-container-id-2 div.sk-text-repr-fallback {display: none;}</style><div id=\"sk-container-id-2\" class=\"sk-top-container\"><div class=\"sk-text-repr-fallback\"><pre>GridSearchCV(cv=5, estimator=KNeighborsClassifier(),\n",
       "             param_grid={&#x27;n_neighbors&#x27;: [70, 160, 180], &#x27;p&#x27;: [1, 2],\n",
       "                         &#x27;weights&#x27;: [&#x27;uniform&#x27;, &#x27;distance&#x27;]},\n",
       "             scoring=&#x27;f1&#x27;)</pre><b>In a Jupyter environment, please rerun this cell to show the HTML representation or trust the notebook. <br />On GitHub, the HTML representation is unable to render, please try loading this page with nbviewer.org.</b></div><div class=\"sk-container\" hidden><div class=\"sk-item sk-dashed-wrapped\"><div class=\"sk-label-container\"><div class=\"sk-label sk-toggleable\"><input class=\"sk-toggleable__control sk-hidden--visually\" id=\"sk-estimator-id-2\" type=\"checkbox\" ><label for=\"sk-estimator-id-2\" class=\"sk-toggleable__label sk-toggleable__label-arrow\">GridSearchCV</label><div class=\"sk-toggleable__content\"><pre>GridSearchCV(cv=5, estimator=KNeighborsClassifier(),\n",
       "             param_grid={&#x27;n_neighbors&#x27;: [70, 160, 180], &#x27;p&#x27;: [1, 2],\n",
       "                         &#x27;weights&#x27;: [&#x27;uniform&#x27;, &#x27;distance&#x27;]},\n",
       "             scoring=&#x27;f1&#x27;)</pre></div></div></div><div class=\"sk-parallel\"><div class=\"sk-parallel-item\"><div class=\"sk-item\"><div class=\"sk-label-container\"><div class=\"sk-label sk-toggleable\"><input class=\"sk-toggleable__control sk-hidden--visually\" id=\"sk-estimator-id-3\" type=\"checkbox\" ><label for=\"sk-estimator-id-3\" class=\"sk-toggleable__label sk-toggleable__label-arrow\">estimator: KNeighborsClassifier</label><div class=\"sk-toggleable__content\"><pre>KNeighborsClassifier()</pre></div></div></div><div class=\"sk-serial\"><div class=\"sk-item\"><div class=\"sk-estimator sk-toggleable\"><input class=\"sk-toggleable__control sk-hidden--visually\" id=\"sk-estimator-id-4\" type=\"checkbox\" ><label for=\"sk-estimator-id-4\" class=\"sk-toggleable__label sk-toggleable__label-arrow\">KNeighborsClassifier</label><div class=\"sk-toggleable__content\"><pre>KNeighborsClassifier()</pre></div></div></div></div></div></div></div></div></div></div>"
      ],
      "text/plain": [
       "GridSearchCV(cv=5, estimator=KNeighborsClassifier(),\n",
       "             param_grid={'n_neighbors': [70, 160, 180], 'p': [1, 2],\n",
       "                         'weights': ['uniform', 'distance']},\n",
       "             scoring='f1')"
      ]
     },
     "execution_count": 35,
     "metadata": {},
     "output_type": "execute_result"
    }
   ],
   "source": [
    "knn_cv = GridSearchCV(KNeighborsClassifier(), param_grid=params, cv=5, scoring= 'f1')\n",
    "knn_cv.fit(X_train, Y_train)"
   ]
  },
  {
   "cell_type": "code",
   "execution_count": 36,
   "id": "76ed5a27",
   "metadata": {},
   "outputs": [
    {
     "data": {
      "text/plain": [
       "{'n_neighbors': 70, 'p': 1, 'weights': 'distance'}"
      ]
     },
     "execution_count": 36,
     "metadata": {},
     "output_type": "execute_result"
    }
   ],
   "source": [
    "knn_cv.best_params_"
   ]
  },
  {
   "cell_type": "code",
   "execution_count": 37,
   "id": "dcec7d81",
   "metadata": {},
   "outputs": [
    {
     "data": {
      "text/plain": [
       "0.8601469792960865"
      ]
     },
     "execution_count": 37,
     "metadata": {},
     "output_type": "execute_result"
    }
   ],
   "source": [
    "knn_cv.best_score_"
   ]
  },
  {
   "cell_type": "code",
   "execution_count": 38,
   "id": "d4a5d60c",
   "metadata": {},
   "outputs": [
    {
     "name": "stdout",
     "output_type": "stream",
     "text": [
      "\u001b[32mIzvestaj o klasifikaciji za modelKNeighborsClassifier nad training podacima\u001b[0m\n",
      "---------------------------------------------------------------------------------\n",
      "              precision    recall  f1-score   support\n",
      "\n",
      "           0       1.00      1.00      1.00     24666\n",
      "           1       1.00      1.00      1.00     24666\n",
      "\n",
      "    accuracy                           1.00     49332\n",
      "   macro avg       1.00      1.00      1.00     49332\n",
      "weighted avg       1.00      1.00      1.00     49332\n",
      "\n",
      "---------------------------------------------------------------------------------\n",
      "\u001b[32mMatrica konfuzije za model KNeighborsClassifier nad training podacima \u001b[0m\n",
      "---------------------------------------------------------------------------------\n",
      "       1      0\n",
      "1  24666      0\n",
      "0      0  24666\n",
      "---------------------------------------------------------------------------------\n"
     ]
    }
   ],
   "source": [
    "report(knn_cv.best_estimator_, X_train, Y_train)"
   ]
  },
  {
   "cell_type": "markdown",
   "id": "79db4ff5",
   "metadata": {},
   "source": [
    "Iako se cini da dolazi do preprilagođavanja, to nije slucaj. Posto je za najbolji model izabran parametar weight='distance', dakle udaljenost suseda od instance utice na klasifikaciju (sto je sused blizi instanci koju klasifikujemo, njegov \"glas\" ima vecu tezinu). Kada evaluiramo model nad trening skupom, sve instance za koje trazimo susede, imaju suseda na rastojanju 0 (to su one same) i onda njihova klasa uvek u potpunost odredjuje klasu instance koju klasifikujemo.(Intuitivno, ako je weights='distance' i u skupu za trening postoji identicna instanca onoj koju klasifikujemo, onda ce novoj instanci biti dodeljena ista klasa). A kada pokusamo sa evaluacijom na test skupu, sada instance koje klasifikujemo nemaju susede na razdaljini 0, pa mnogo vise suseda utice na klasifikaciju (pa je i tacnost manja). "
   ]
  },
  {
   "cell_type": "code",
   "execution_count": 39,
   "id": "9b28752a",
   "metadata": {},
   "outputs": [
    {
     "name": "stdout",
     "output_type": "stream",
     "text": [
      "\u001b[32mIzvestaj o klasifikaciji za modelKNeighborsClassifier nad test podacima\u001b[0m\n",
      "---------------------------------------------------------------------------------\n",
      "              precision    recall  f1-score   support\n",
      "\n",
      "           0       0.94      0.74      0.83     10571\n",
      "           1       0.67      0.91      0.77      6137\n",
      "\n",
      "    accuracy                           0.80     16708\n",
      "   macro avg       0.80      0.83      0.80     16708\n",
      "weighted avg       0.84      0.80      0.81     16708\n",
      "\n",
      "---------------------------------------------------------------------------------\n",
      "\u001b[32mMatrica konfuzije za model KNeighborsClassifier nad test podacima \u001b[0m\n",
      "---------------------------------------------------------------------------------\n",
      "      1     0\n",
      "1  7820  2751\n",
      "0   525  5612\n",
      "---------------------------------------------------------------------------------\n"
     ]
    }
   ],
   "source": [
    "report(knn_cv.best_estimator_, X_test, Y_test, \"test\")"
   ]
  },
  {
   "cell_type": "markdown",
   "id": "97a48210",
   "metadata": {},
   "source": [
    "Vidimo da je f1 score na test skupu 80%, sto znaci da smo podesavanjem parametara uspeli poboljsati model."
   ]
  },
  {
   "cell_type": "code",
   "execution_count": 40,
   "id": "cbd54a0f",
   "metadata": {},
   "outputs": [
    {
     "data": {
      "image/png": "[encoded data removed]",
      "text/plain": [
       "<Figure size 640x480 with 1 Axes>"
      ]
     },
     "metadata": {},
     "output_type": "display_data"
    }
   ],
   "source": [
    "from sklearn.metrics import roc_curve, roc_auc_score\n",
    "models = [knn, knn_cv.best_estimator_]\n",
    "model_names = ['KNearestNeighbors', 'GridSearchCV']\n",
    "\n",
    "for model, model_name in zip(models, model_names):\n",
    "    y_pred = model.predict(X_test)\n",
    "    fpr,tpr, _ = roc_curve(Y_test, y_pred)\n",
    "    auc = roc_auc_score(Y_test, y_pred)\n",
    "    lab = model_name + \"(AUC: \" + str(round(auc, 2)) + \")\"\n",
    "    plt.plot(fpr, tpr, label=lab)\n",
    "\n",
    "plt.plot([0, 1], [0, 1], label='Random (AUC: 0.5)')\n",
    "plt.title(\"Poređenje modela\")\n",
    "plt.legend()\n",
    "plt.show()\n"
   ]
  },
  {
   "cell_type": "markdown",
   "id": "3ca351c5",
   "metadata": {},
   "source": [
    "Poredjenjem modela zakljucujemo da bolje rezultate daje model sa podesenim parametrima."
   ]
  },
  {
   "cell_type": "code",
   "execution_count": 41,
   "id": "7d14bfb8",
   "metadata": {},
   "outputs": [
    {
     "data": {
      "text/plain": [
       "['knn.joblib']"
      ]
     },
     "execution_count": 41,
     "metadata": {},
     "output_type": "execute_result"
    }
   ],
   "source": [
    "from joblib import dump\n",
    "dump(models, 'knn.joblib')"
   ]
  },
  {
   "cell_type": "code",
   "execution_count": null,
   "id": "439606f0",
   "metadata": {},
   "outputs": [],
   "source": []
  }
 ],
 "metadata": {
  "kernelspec": {
   "display_name": "Python 3 (ipykernel)",
   "language": "python",
   "name": "python3"
  },
  "language_info": {
   "codemirror_mode": {
    "name": "ipython",
    "version": 3
   },
   "file_extension": ".py",
   "mimetype": "text/x-python",
   "name": "python",
   "nbconvert_exporter": "python",
   "pygments_lexer": "ipython3",
   "version": "3.8.10"
  }
 },
 "nbformat": 4,
 "nbformat_minor": 5
}
